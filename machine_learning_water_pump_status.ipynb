{
 "cells": [
  {
   "cell_type": "code",
   "execution_count": 1,
   "id": "9daa80d9",
   "metadata": {},
   "outputs": [],
   "source": [
    "import pandas as pd\n",
    "import ydata_profiling\n",
    "from pandas.api.types import is_string_dtype\n",
    "import seaborn as sns\n",
    "import matplotlib.pyplot as plt\n",
    "from sklearn.preprocessing import LabelEncoder\n",
    "import numpy as np\n",
    "import os\n",
    "import statsmodels.api as sm\n",
    "import ydata_profiling\n",
    "import re\n",
    "from sklearn import preprocessing\n",
    "from sklearn import model_selection\n",
    "from sklearn.ensemble import RandomForestClassifier\n",
    "from sklearn.model_selection import train_test_split\n",
    "import xgboost as xgb\n",
    "from sklearn.metrics import classification_report, confusion_matrix\n",
    "from sklearn.metrics import accuracy_score\n",
    "from sklearn.tree import DecisionTreeClassifier\n",
    "from sklearn.naive_bayes import GaussianNB\n",
    "from sklearn import metrics\n",
    "from sklearn.model_selection import GridSearchCV\n",
    "from sklearn.linear_model import LogisticRegression\n",
    "from sklearn.ensemble import GradientBoostingClassifier"
   ]
  },
  {
   "cell_type": "markdown",
   "id": "46810322",
   "metadata": {},
   "source": [
    "# Modelo 1\n"
   ]
  },
  {
   "cell_type": "code",
   "execution_count": 2,
   "id": "b979ba64",
   "metadata": {},
   "outputs": [
    {
     "data": {
      "text/html": [
       "<div>\n",
       "<style scoped>\n",
       "    .dataframe tbody tr th:only-of-type {\n",
       "        vertical-align: middle;\n",
       "    }\n",
       "\n",
       "    .dataframe tbody tr th {\n",
       "        vertical-align: top;\n",
       "    }\n",
       "\n",
       "    .dataframe thead th {\n",
       "        text-align: right;\n",
       "    }\n",
       "</style>\n",
       "<table border=\"1\" class=\"dataframe\">\n",
       "  <thead>\n",
       "    <tr style=\"text-align: right;\">\n",
       "      <th></th>\n",
       "      <th>id</th>\n",
       "      <th>amount_tsh</th>\n",
       "      <th>date_recorded</th>\n",
       "      <th>funder</th>\n",
       "      <th>gps_height</th>\n",
       "      <th>installer</th>\n",
       "      <th>longitude</th>\n",
       "      <th>latitude</th>\n",
       "      <th>wpt_name</th>\n",
       "      <th>num_private</th>\n",
       "      <th>...</th>\n",
       "      <th>payment_type</th>\n",
       "      <th>water_quality</th>\n",
       "      <th>quality_group</th>\n",
       "      <th>quantity</th>\n",
       "      <th>quantity_group</th>\n",
       "      <th>source</th>\n",
       "      <th>source_type</th>\n",
       "      <th>source_class</th>\n",
       "      <th>waterpoint_type</th>\n",
       "      <th>waterpoint_type_group</th>\n",
       "    </tr>\n",
       "  </thead>\n",
       "  <tbody>\n",
       "    <tr>\n",
       "      <th>0</th>\n",
       "      <td>69572</td>\n",
       "      <td>6000.0</td>\n",
       "      <td>2011-03-14</td>\n",
       "      <td>Roman</td>\n",
       "      <td>1390</td>\n",
       "      <td>Roman</td>\n",
       "      <td>34.938093</td>\n",
       "      <td>-9.856322</td>\n",
       "      <td>none</td>\n",
       "      <td>0</td>\n",
       "      <td>...</td>\n",
       "      <td>annually</td>\n",
       "      <td>soft</td>\n",
       "      <td>good</td>\n",
       "      <td>enough</td>\n",
       "      <td>enough</td>\n",
       "      <td>spring</td>\n",
       "      <td>spring</td>\n",
       "      <td>groundwater</td>\n",
       "      <td>communal standpipe</td>\n",
       "      <td>communal standpipe</td>\n",
       "    </tr>\n",
       "    <tr>\n",
       "      <th>1</th>\n",
       "      <td>8776</td>\n",
       "      <td>0.0</td>\n",
       "      <td>2013-03-06</td>\n",
       "      <td>Grumeti</td>\n",
       "      <td>1399</td>\n",
       "      <td>GRUMETI</td>\n",
       "      <td>34.698766</td>\n",
       "      <td>-2.147466</td>\n",
       "      <td>Zahanati</td>\n",
       "      <td>0</td>\n",
       "      <td>...</td>\n",
       "      <td>never pay</td>\n",
       "      <td>soft</td>\n",
       "      <td>good</td>\n",
       "      <td>insufficient</td>\n",
       "      <td>insufficient</td>\n",
       "      <td>rainwater harvesting</td>\n",
       "      <td>rainwater harvesting</td>\n",
       "      <td>surface</td>\n",
       "      <td>communal standpipe</td>\n",
       "      <td>communal standpipe</td>\n",
       "    </tr>\n",
       "    <tr>\n",
       "      <th>2</th>\n",
       "      <td>34310</td>\n",
       "      <td>25.0</td>\n",
       "      <td>2013-02-25</td>\n",
       "      <td>Lottery Club</td>\n",
       "      <td>686</td>\n",
       "      <td>World vision</td>\n",
       "      <td>37.460664</td>\n",
       "      <td>-3.821329</td>\n",
       "      <td>Kwa Mahundi</td>\n",
       "      <td>0</td>\n",
       "      <td>...</td>\n",
       "      <td>per bucket</td>\n",
       "      <td>soft</td>\n",
       "      <td>good</td>\n",
       "      <td>enough</td>\n",
       "      <td>enough</td>\n",
       "      <td>dam</td>\n",
       "      <td>dam</td>\n",
       "      <td>surface</td>\n",
       "      <td>communal standpipe multiple</td>\n",
       "      <td>communal standpipe</td>\n",
       "    </tr>\n",
       "    <tr>\n",
       "      <th>3</th>\n",
       "      <td>67743</td>\n",
       "      <td>0.0</td>\n",
       "      <td>2013-01-28</td>\n",
       "      <td>Unicef</td>\n",
       "      <td>263</td>\n",
       "      <td>UNICEF</td>\n",
       "      <td>38.486161</td>\n",
       "      <td>-11.155298</td>\n",
       "      <td>Zahanati Ya Nanyumbu</td>\n",
       "      <td>0</td>\n",
       "      <td>...</td>\n",
       "      <td>never pay</td>\n",
       "      <td>soft</td>\n",
       "      <td>good</td>\n",
       "      <td>dry</td>\n",
       "      <td>dry</td>\n",
       "      <td>machine dbh</td>\n",
       "      <td>borehole</td>\n",
       "      <td>groundwater</td>\n",
       "      <td>communal standpipe multiple</td>\n",
       "      <td>communal standpipe</td>\n",
       "    </tr>\n",
       "    <tr>\n",
       "      <th>4</th>\n",
       "      <td>19728</td>\n",
       "      <td>0.0</td>\n",
       "      <td>2011-07-13</td>\n",
       "      <td>Action In A</td>\n",
       "      <td>0</td>\n",
       "      <td>Artisan</td>\n",
       "      <td>31.130847</td>\n",
       "      <td>-1.825359</td>\n",
       "      <td>Shuleni</td>\n",
       "      <td>0</td>\n",
       "      <td>...</td>\n",
       "      <td>never pay</td>\n",
       "      <td>soft</td>\n",
       "      <td>good</td>\n",
       "      <td>seasonal</td>\n",
       "      <td>seasonal</td>\n",
       "      <td>rainwater harvesting</td>\n",
       "      <td>rainwater harvesting</td>\n",
       "      <td>surface</td>\n",
       "      <td>communal standpipe</td>\n",
       "      <td>communal standpipe</td>\n",
       "    </tr>\n",
       "    <tr>\n",
       "      <th>...</th>\n",
       "      <td>...</td>\n",
       "      <td>...</td>\n",
       "      <td>...</td>\n",
       "      <td>...</td>\n",
       "      <td>...</td>\n",
       "      <td>...</td>\n",
       "      <td>...</td>\n",
       "      <td>...</td>\n",
       "      <td>...</td>\n",
       "      <td>...</td>\n",
       "      <td>...</td>\n",
       "      <td>...</td>\n",
       "      <td>...</td>\n",
       "      <td>...</td>\n",
       "      <td>...</td>\n",
       "      <td>...</td>\n",
       "      <td>...</td>\n",
       "      <td>...</td>\n",
       "      <td>...</td>\n",
       "      <td>...</td>\n",
       "      <td>...</td>\n",
       "    </tr>\n",
       "    <tr>\n",
       "      <th>59395</th>\n",
       "      <td>60739</td>\n",
       "      <td>10.0</td>\n",
       "      <td>2013-05-03</td>\n",
       "      <td>Germany Republi</td>\n",
       "      <td>1210</td>\n",
       "      <td>CES</td>\n",
       "      <td>37.169807</td>\n",
       "      <td>-3.253847</td>\n",
       "      <td>Area Three Namba 27</td>\n",
       "      <td>0</td>\n",
       "      <td>...</td>\n",
       "      <td>per bucket</td>\n",
       "      <td>soft</td>\n",
       "      <td>good</td>\n",
       "      <td>enough</td>\n",
       "      <td>enough</td>\n",
       "      <td>spring</td>\n",
       "      <td>spring</td>\n",
       "      <td>groundwater</td>\n",
       "      <td>communal standpipe</td>\n",
       "      <td>communal standpipe</td>\n",
       "    </tr>\n",
       "    <tr>\n",
       "      <th>59396</th>\n",
       "      <td>27263</td>\n",
       "      <td>4700.0</td>\n",
       "      <td>2011-05-07</td>\n",
       "      <td>Cefa-njombe</td>\n",
       "      <td>1212</td>\n",
       "      <td>Cefa</td>\n",
       "      <td>35.249991</td>\n",
       "      <td>-9.070629</td>\n",
       "      <td>Kwa Yahona Kuvala</td>\n",
       "      <td>0</td>\n",
       "      <td>...</td>\n",
       "      <td>annually</td>\n",
       "      <td>soft</td>\n",
       "      <td>good</td>\n",
       "      <td>enough</td>\n",
       "      <td>enough</td>\n",
       "      <td>river</td>\n",
       "      <td>river/lake</td>\n",
       "      <td>surface</td>\n",
       "      <td>communal standpipe</td>\n",
       "      <td>communal standpipe</td>\n",
       "    </tr>\n",
       "    <tr>\n",
       "      <th>59397</th>\n",
       "      <td>37057</td>\n",
       "      <td>0.0</td>\n",
       "      <td>2011-04-11</td>\n",
       "      <td>NaN</td>\n",
       "      <td>0</td>\n",
       "      <td>NaN</td>\n",
       "      <td>34.017087</td>\n",
       "      <td>-8.750434</td>\n",
       "      <td>Mashine</td>\n",
       "      <td>0</td>\n",
       "      <td>...</td>\n",
       "      <td>monthly</td>\n",
       "      <td>fluoride</td>\n",
       "      <td>fluoride</td>\n",
       "      <td>enough</td>\n",
       "      <td>enough</td>\n",
       "      <td>machine dbh</td>\n",
       "      <td>borehole</td>\n",
       "      <td>groundwater</td>\n",
       "      <td>hand pump</td>\n",
       "      <td>hand pump</td>\n",
       "    </tr>\n",
       "    <tr>\n",
       "      <th>59398</th>\n",
       "      <td>31282</td>\n",
       "      <td>0.0</td>\n",
       "      <td>2011-03-08</td>\n",
       "      <td>Malec</td>\n",
       "      <td>0</td>\n",
       "      <td>Musa</td>\n",
       "      <td>35.861315</td>\n",
       "      <td>-6.378573</td>\n",
       "      <td>Mshoro</td>\n",
       "      <td>0</td>\n",
       "      <td>...</td>\n",
       "      <td>never pay</td>\n",
       "      <td>soft</td>\n",
       "      <td>good</td>\n",
       "      <td>insufficient</td>\n",
       "      <td>insufficient</td>\n",
       "      <td>shallow well</td>\n",
       "      <td>shallow well</td>\n",
       "      <td>groundwater</td>\n",
       "      <td>hand pump</td>\n",
       "      <td>hand pump</td>\n",
       "    </tr>\n",
       "    <tr>\n",
       "      <th>59399</th>\n",
       "      <td>26348</td>\n",
       "      <td>0.0</td>\n",
       "      <td>2011-03-23</td>\n",
       "      <td>World Bank</td>\n",
       "      <td>191</td>\n",
       "      <td>World</td>\n",
       "      <td>38.104048</td>\n",
       "      <td>-6.747464</td>\n",
       "      <td>Kwa Mzee Lugawa</td>\n",
       "      <td>0</td>\n",
       "      <td>...</td>\n",
       "      <td>on failure</td>\n",
       "      <td>salty</td>\n",
       "      <td>salty</td>\n",
       "      <td>enough</td>\n",
       "      <td>enough</td>\n",
       "      <td>shallow well</td>\n",
       "      <td>shallow well</td>\n",
       "      <td>groundwater</td>\n",
       "      <td>hand pump</td>\n",
       "      <td>hand pump</td>\n",
       "    </tr>\n",
       "  </tbody>\n",
       "</table>\n",
       "<p>59400 rows × 40 columns</p>\n",
       "</div>"
      ],
      "text/plain": [
       "          id  amount_tsh date_recorded           funder  gps_height  \\\n",
       "0      69572      6000.0    2011-03-14            Roman        1390   \n",
       "1       8776         0.0    2013-03-06          Grumeti        1399   \n",
       "2      34310        25.0    2013-02-25     Lottery Club         686   \n",
       "3      67743         0.0    2013-01-28           Unicef         263   \n",
       "4      19728         0.0    2011-07-13      Action In A           0   \n",
       "...      ...         ...           ...              ...         ...   \n",
       "59395  60739        10.0    2013-05-03  Germany Republi        1210   \n",
       "59396  27263      4700.0    2011-05-07      Cefa-njombe        1212   \n",
       "59397  37057         0.0    2011-04-11              NaN           0   \n",
       "59398  31282         0.0    2011-03-08            Malec           0   \n",
       "59399  26348         0.0    2011-03-23       World Bank         191   \n",
       "\n",
       "          installer  longitude   latitude              wpt_name  num_private  \\\n",
       "0             Roman  34.938093  -9.856322                  none            0   \n",
       "1           GRUMETI  34.698766  -2.147466              Zahanati            0   \n",
       "2      World vision  37.460664  -3.821329           Kwa Mahundi            0   \n",
       "3            UNICEF  38.486161 -11.155298  Zahanati Ya Nanyumbu            0   \n",
       "4           Artisan  31.130847  -1.825359               Shuleni            0   \n",
       "...             ...        ...        ...                   ...          ...   \n",
       "59395           CES  37.169807  -3.253847   Area Three Namba 27            0   \n",
       "59396          Cefa  35.249991  -9.070629     Kwa Yahona Kuvala            0   \n",
       "59397           NaN  34.017087  -8.750434               Mashine            0   \n",
       "59398          Musa  35.861315  -6.378573                Mshoro            0   \n",
       "59399         World  38.104048  -6.747464       Kwa Mzee Lugawa            0   \n",
       "\n",
       "       ... payment_type water_quality quality_group      quantity  \\\n",
       "0      ...     annually          soft          good        enough   \n",
       "1      ...    never pay          soft          good  insufficient   \n",
       "2      ...   per bucket          soft          good        enough   \n",
       "3      ...    never pay          soft          good           dry   \n",
       "4      ...    never pay          soft          good      seasonal   \n",
       "...    ...          ...           ...           ...           ...   \n",
       "59395  ...   per bucket          soft          good        enough   \n",
       "59396  ...     annually          soft          good        enough   \n",
       "59397  ...      monthly      fluoride      fluoride        enough   \n",
       "59398  ...    never pay          soft          good  insufficient   \n",
       "59399  ...   on failure         salty         salty        enough   \n",
       "\n",
       "       quantity_group                source           source_type  \\\n",
       "0              enough                spring                spring   \n",
       "1        insufficient  rainwater harvesting  rainwater harvesting   \n",
       "2              enough                   dam                   dam   \n",
       "3                 dry           machine dbh              borehole   \n",
       "4            seasonal  rainwater harvesting  rainwater harvesting   \n",
       "...               ...                   ...                   ...   \n",
       "59395          enough                spring                spring   \n",
       "59396          enough                 river            river/lake   \n",
       "59397          enough           machine dbh              borehole   \n",
       "59398    insufficient          shallow well          shallow well   \n",
       "59399          enough          shallow well          shallow well   \n",
       "\n",
       "       source_class              waterpoint_type waterpoint_type_group  \n",
       "0       groundwater           communal standpipe    communal standpipe  \n",
       "1           surface           communal standpipe    communal standpipe  \n",
       "2           surface  communal standpipe multiple    communal standpipe  \n",
       "3       groundwater  communal standpipe multiple    communal standpipe  \n",
       "4           surface           communal standpipe    communal standpipe  \n",
       "...             ...                          ...                   ...  \n",
       "59395   groundwater           communal standpipe    communal standpipe  \n",
       "59396       surface           communal standpipe    communal standpipe  \n",
       "59397   groundwater                    hand pump             hand pump  \n",
       "59398   groundwater                    hand pump             hand pump  \n",
       "59399   groundwater                    hand pump             hand pump  \n",
       "\n",
       "[59400 rows x 40 columns]"
      ]
     },
     "execution_count": 2,
     "metadata": {},
     "output_type": "execute_result"
    }
   ],
   "source": [
    "train = pd.read_csv('C:\\\\Users\\\\ezequ\\\\env\\\\train_set_values.csv')\n",
    "etiqueta=pd.read_csv('C:\\\\Users\\\\ezequ\\\\env\\\\training_set_labels.csv')\n",
    "train"
   ]
  },
  {
   "cell_type": "code",
   "execution_count": 3,
   "id": "ce42f04d",
   "metadata": {},
   "outputs": [
    {
     "data": {
      "text/html": [
       "<div>\n",
       "<style scoped>\n",
       "    .dataframe tbody tr th:only-of-type {\n",
       "        vertical-align: middle;\n",
       "    }\n",
       "\n",
       "    .dataframe tbody tr th {\n",
       "        vertical-align: top;\n",
       "    }\n",
       "\n",
       "    .dataframe thead th {\n",
       "        text-align: right;\n",
       "    }\n",
       "</style>\n",
       "<table border=\"1\" class=\"dataframe\">\n",
       "  <thead>\n",
       "    <tr style=\"text-align: right;\">\n",
       "      <th></th>\n",
       "      <th>id</th>\n",
       "      <th>status_group</th>\n",
       "    </tr>\n",
       "  </thead>\n",
       "  <tbody>\n",
       "    <tr>\n",
       "      <th>0</th>\n",
       "      <td>69572</td>\n",
       "      <td>functional</td>\n",
       "    </tr>\n",
       "    <tr>\n",
       "      <th>1</th>\n",
       "      <td>8776</td>\n",
       "      <td>functional</td>\n",
       "    </tr>\n",
       "    <tr>\n",
       "      <th>2</th>\n",
       "      <td>34310</td>\n",
       "      <td>functional</td>\n",
       "    </tr>\n",
       "    <tr>\n",
       "      <th>3</th>\n",
       "      <td>67743</td>\n",
       "      <td>non functional</td>\n",
       "    </tr>\n",
       "    <tr>\n",
       "      <th>4</th>\n",
       "      <td>19728</td>\n",
       "      <td>functional</td>\n",
       "    </tr>\n",
       "    <tr>\n",
       "      <th>...</th>\n",
       "      <td>...</td>\n",
       "      <td>...</td>\n",
       "    </tr>\n",
       "    <tr>\n",
       "      <th>59395</th>\n",
       "      <td>60739</td>\n",
       "      <td>functional</td>\n",
       "    </tr>\n",
       "    <tr>\n",
       "      <th>59396</th>\n",
       "      <td>27263</td>\n",
       "      <td>functional</td>\n",
       "    </tr>\n",
       "    <tr>\n",
       "      <th>59397</th>\n",
       "      <td>37057</td>\n",
       "      <td>functional</td>\n",
       "    </tr>\n",
       "    <tr>\n",
       "      <th>59398</th>\n",
       "      <td>31282</td>\n",
       "      <td>functional</td>\n",
       "    </tr>\n",
       "    <tr>\n",
       "      <th>59399</th>\n",
       "      <td>26348</td>\n",
       "      <td>functional</td>\n",
       "    </tr>\n",
       "  </tbody>\n",
       "</table>\n",
       "<p>59400 rows × 2 columns</p>\n",
       "</div>"
      ],
      "text/plain": [
       "          id    status_group\n",
       "0      69572      functional\n",
       "1       8776      functional\n",
       "2      34310      functional\n",
       "3      67743  non functional\n",
       "4      19728      functional\n",
       "...      ...             ...\n",
       "59395  60739      functional\n",
       "59396  27263      functional\n",
       "59397  37057      functional\n",
       "59398  31282      functional\n",
       "59399  26348      functional\n",
       "\n",
       "[59400 rows x 2 columns]"
      ]
     },
     "execution_count": 3,
     "metadata": {},
     "output_type": "execute_result"
    }
   ],
   "source": [
    "etiqueta"
   ]
  },
  {
   "cell_type": "markdown",
   "id": "0e3b0dae",
   "metadata": {},
   "source": [
    "Se une train con etiqueta"
   ]
  },
  {
   "cell_type": "code",
   "execution_count": 4,
   "id": "6fcb9318",
   "metadata": {},
   "outputs": [],
   "source": [
    "train = train.merge(etiqueta, on = \"id\", how = \"inner\")"
   ]
  },
  {
   "cell_type": "code",
   "execution_count": 5,
   "id": "7a1fe4db",
   "metadata": {},
   "outputs": [],
   "source": [
    "var_obj = {'functional':0, \n",
    "                   'non functional': 2, \n",
    "                   'functional needs repair': 1} \n",
    "train['status_group'] = etiqueta['status_group'].replace(var_obj)"
   ]
  },
  {
   "cell_type": "code",
   "execution_count": 6,
   "id": "33dee9f1",
   "metadata": {},
   "outputs": [
    {
     "data": {
      "text/plain": [
       "Index(['id', 'amount_tsh', 'date_recorded', 'funder', 'gps_height',\n",
       "       'installer', 'longitude', 'latitude', 'wpt_name', 'num_private',\n",
       "       'basin', 'subvillage', 'region', 'region_code', 'district_code', 'lga',\n",
       "       'ward', 'population', 'public_meeting', 'recorded_by',\n",
       "       'scheme_management', 'scheme_name', 'permit', 'construction_year',\n",
       "       'extraction_type', 'extraction_type_group', 'extraction_type_class',\n",
       "       'management', 'management_group', 'payment', 'payment_type',\n",
       "       'water_quality', 'quality_group', 'quantity', 'quantity_group',\n",
       "       'source', 'source_type', 'source_class', 'waterpoint_type',\n",
       "       'waterpoint_type_group', 'status_group'],\n",
       "      dtype='object')"
      ]
     },
     "execution_count": 6,
     "metadata": {},
     "output_type": "execute_result"
    }
   ],
   "source": [
    "train.columns"
   ]
  },
  {
   "cell_type": "code",
   "execution_count": 7,
   "id": "7a623186",
   "metadata": {},
   "outputs": [
    {
     "data": {
      "text/html": [
       "<div>\n",
       "<style scoped>\n",
       "    .dataframe tbody tr th:only-of-type {\n",
       "        vertical-align: middle;\n",
       "    }\n",
       "\n",
       "    .dataframe tbody tr th {\n",
       "        vertical-align: top;\n",
       "    }\n",
       "\n",
       "    .dataframe thead th {\n",
       "        text-align: right;\n",
       "    }\n",
       "</style>\n",
       "<table border=\"1\" class=\"dataframe\">\n",
       "  <thead>\n",
       "    <tr style=\"text-align: right;\">\n",
       "      <th></th>\n",
       "      <th>id</th>\n",
       "      <th>amount_tsh</th>\n",
       "      <th>gps_height</th>\n",
       "      <th>longitude</th>\n",
       "      <th>latitude</th>\n",
       "      <th>num_private</th>\n",
       "      <th>region_code</th>\n",
       "      <th>district_code</th>\n",
       "      <th>population</th>\n",
       "      <th>construction_year</th>\n",
       "      <th>status_group</th>\n",
       "    </tr>\n",
       "  </thead>\n",
       "  <tbody>\n",
       "    <tr>\n",
       "      <th>status_group</th>\n",
       "      <td>0.004049</td>\n",
       "      <td>-0.053702</td>\n",
       "      <td>-0.114029</td>\n",
       "      <td>0.004366</td>\n",
       "      <td>-0.014547</td>\n",
       "      <td>-0.005021</td>\n",
       "      <td>0.108640</td>\n",
       "      <td>0.065687</td>\n",
       "      <td>-0.017759</td>\n",
       "      <td>-0.043342</td>\n",
       "      <td>1.000000</td>\n",
       "    </tr>\n",
       "    <tr>\n",
       "      <th>region_code</th>\n",
       "      <td>-0.003028</td>\n",
       "      <td>-0.026813</td>\n",
       "      <td>-0.183521</td>\n",
       "      <td>0.034197</td>\n",
       "      <td>-0.221018</td>\n",
       "      <td>-0.020377</td>\n",
       "      <td>1.000000</td>\n",
       "      <td>0.678602</td>\n",
       "      <td>0.094088</td>\n",
       "      <td>0.031724</td>\n",
       "      <td>0.108640</td>\n",
       "    </tr>\n",
       "    <tr>\n",
       "      <th>district_code</th>\n",
       "      <td>-0.003044</td>\n",
       "      <td>-0.023599</td>\n",
       "      <td>-0.171233</td>\n",
       "      <td>0.151398</td>\n",
       "      <td>-0.201020</td>\n",
       "      <td>-0.004478</td>\n",
       "      <td>0.678602</td>\n",
       "      <td>1.000000</td>\n",
       "      <td>0.061831</td>\n",
       "      <td>0.048315</td>\n",
       "      <td>0.065687</td>\n",
       "    </tr>\n",
       "    <tr>\n",
       "      <th>longitude</th>\n",
       "      <td>-0.001348</td>\n",
       "      <td>0.022134</td>\n",
       "      <td>0.149155</td>\n",
       "      <td>1.000000</td>\n",
       "      <td>-0.425802</td>\n",
       "      <td>0.023873</td>\n",
       "      <td>0.034197</td>\n",
       "      <td>0.151398</td>\n",
       "      <td>0.086590</td>\n",
       "      <td>0.396732</td>\n",
       "      <td>0.004366</td>\n",
       "    </tr>\n",
       "    <tr>\n",
       "      <th>id</th>\n",
       "      <td>1.000000</td>\n",
       "      <td>-0.005321</td>\n",
       "      <td>-0.004692</td>\n",
       "      <td>-0.001348</td>\n",
       "      <td>0.001718</td>\n",
       "      <td>-0.002629</td>\n",
       "      <td>-0.003028</td>\n",
       "      <td>-0.003044</td>\n",
       "      <td>-0.002813</td>\n",
       "      <td>-0.002082</td>\n",
       "      <td>0.004049</td>\n",
       "    </tr>\n",
       "    <tr>\n",
       "      <th>num_private</th>\n",
       "      <td>-0.002629</td>\n",
       "      <td>0.002944</td>\n",
       "      <td>0.007237</td>\n",
       "      <td>0.023873</td>\n",
       "      <td>0.006837</td>\n",
       "      <td>1.000000</td>\n",
       "      <td>-0.020377</td>\n",
       "      <td>-0.004478</td>\n",
       "      <td>0.003818</td>\n",
       "      <td>0.026056</td>\n",
       "      <td>-0.005021</td>\n",
       "    </tr>\n",
       "    <tr>\n",
       "      <th>latitude</th>\n",
       "      <td>0.001718</td>\n",
       "      <td>-0.052670</td>\n",
       "      <td>-0.035751</td>\n",
       "      <td>-0.425802</td>\n",
       "      <td>1.000000</td>\n",
       "      <td>0.006837</td>\n",
       "      <td>-0.221018</td>\n",
       "      <td>-0.201020</td>\n",
       "      <td>-0.022152</td>\n",
       "      <td>-0.245278</td>\n",
       "      <td>-0.014547</td>\n",
       "    </tr>\n",
       "    <tr>\n",
       "      <th>population</th>\n",
       "      <td>-0.002813</td>\n",
       "      <td>0.016288</td>\n",
       "      <td>0.135003</td>\n",
       "      <td>0.086590</td>\n",
       "      <td>-0.022152</td>\n",
       "      <td>0.003818</td>\n",
       "      <td>0.094088</td>\n",
       "      <td>0.061831</td>\n",
       "      <td>1.000000</td>\n",
       "      <td>0.260910</td>\n",
       "      <td>-0.017759</td>\n",
       "    </tr>\n",
       "    <tr>\n",
       "      <th>construction_year</th>\n",
       "      <td>-0.002082</td>\n",
       "      <td>0.067915</td>\n",
       "      <td>0.658727</td>\n",
       "      <td>0.396732</td>\n",
       "      <td>-0.245278</td>\n",
       "      <td>0.026056</td>\n",
       "      <td>0.031724</td>\n",
       "      <td>0.048315</td>\n",
       "      <td>0.260910</td>\n",
       "      <td>1.000000</td>\n",
       "      <td>-0.043342</td>\n",
       "    </tr>\n",
       "    <tr>\n",
       "      <th>amount_tsh</th>\n",
       "      <td>-0.005321</td>\n",
       "      <td>1.000000</td>\n",
       "      <td>0.076650</td>\n",
       "      <td>0.022134</td>\n",
       "      <td>-0.052670</td>\n",
       "      <td>0.002944</td>\n",
       "      <td>-0.026813</td>\n",
       "      <td>-0.023599</td>\n",
       "      <td>0.016288</td>\n",
       "      <td>0.067915</td>\n",
       "      <td>-0.053702</td>\n",
       "    </tr>\n",
       "    <tr>\n",
       "      <th>gps_height</th>\n",
       "      <td>-0.004692</td>\n",
       "      <td>0.076650</td>\n",
       "      <td>1.000000</td>\n",
       "      <td>0.149155</td>\n",
       "      <td>-0.035751</td>\n",
       "      <td>0.007237</td>\n",
       "      <td>-0.183521</td>\n",
       "      <td>-0.171233</td>\n",
       "      <td>0.135003</td>\n",
       "      <td>0.658727</td>\n",
       "      <td>-0.114029</td>\n",
       "    </tr>\n",
       "  </tbody>\n",
       "</table>\n",
       "</div>"
      ],
      "text/plain": [
       "                         id  amount_tsh  gps_height  longitude  latitude  \\\n",
       "status_group       0.004049   -0.053702   -0.114029   0.004366 -0.014547   \n",
       "region_code       -0.003028   -0.026813   -0.183521   0.034197 -0.221018   \n",
       "district_code     -0.003044   -0.023599   -0.171233   0.151398 -0.201020   \n",
       "longitude         -0.001348    0.022134    0.149155   1.000000 -0.425802   \n",
       "id                 1.000000   -0.005321   -0.004692  -0.001348  0.001718   \n",
       "num_private       -0.002629    0.002944    0.007237   0.023873  0.006837   \n",
       "latitude           0.001718   -0.052670   -0.035751  -0.425802  1.000000   \n",
       "population        -0.002813    0.016288    0.135003   0.086590 -0.022152   \n",
       "construction_year -0.002082    0.067915    0.658727   0.396732 -0.245278   \n",
       "amount_tsh        -0.005321    1.000000    0.076650   0.022134 -0.052670   \n",
       "gps_height        -0.004692    0.076650    1.000000   0.149155 -0.035751   \n",
       "\n",
       "                   num_private  region_code  district_code  population  \\\n",
       "status_group         -0.005021     0.108640       0.065687   -0.017759   \n",
       "region_code          -0.020377     1.000000       0.678602    0.094088   \n",
       "district_code        -0.004478     0.678602       1.000000    0.061831   \n",
       "longitude             0.023873     0.034197       0.151398    0.086590   \n",
       "id                   -0.002629    -0.003028      -0.003044   -0.002813   \n",
       "num_private           1.000000    -0.020377      -0.004478    0.003818   \n",
       "latitude              0.006837    -0.221018      -0.201020   -0.022152   \n",
       "population            0.003818     0.094088       0.061831    1.000000   \n",
       "construction_year     0.026056     0.031724       0.048315    0.260910   \n",
       "amount_tsh            0.002944    -0.026813      -0.023599    0.016288   \n",
       "gps_height            0.007237    -0.183521      -0.171233    0.135003   \n",
       "\n",
       "                   construction_year  status_group  \n",
       "status_group               -0.043342      1.000000  \n",
       "region_code                 0.031724      0.108640  \n",
       "district_code               0.048315      0.065687  \n",
       "longitude                   0.396732      0.004366  \n",
       "id                         -0.002082      0.004049  \n",
       "num_private                 0.026056     -0.005021  \n",
       "latitude                   -0.245278     -0.014547  \n",
       "population                  0.260910     -0.017759  \n",
       "construction_year           1.000000     -0.043342  \n",
       "amount_tsh                  0.067915     -0.053702  \n",
       "gps_height                  0.658727     -0.114029  "
      ]
     },
     "execution_count": 7,
     "metadata": {},
     "output_type": "execute_result"
    }
   ],
   "source": [
    "correlation_matrix = train.corr()\n",
    "correlation_matrix.sort_values(ascending=False, by='status_group')"
   ]
  },
  {
   "cell_type": "markdown",
   "id": "35dc290b",
   "metadata": {},
   "source": [
    "Se puede observar que hay una alta correlación entre las variables gps_height y construction_year, lo que podría sugerir una posible relación causal entre ellas, También se observa una correlación significativa entre las variables region_code y district_code. Esto se puede tomar en cuenta para algun modelo que se intente mostrar."
   ]
  },
  {
   "cell_type": "code",
   "execution_count": 8,
   "id": "5a5129f5",
   "metadata": {
    "scrolled": false
   },
   "outputs": [
    {
     "data": {
      "image/png": "[encoded data removed]",
      "text/plain": [
       "<Figure size 1440x1440 with 2 Axes>"
      ]
     },
     "metadata": {
      "needs_background": "light"
     },
     "output_type": "display_data"
    }
   ],
   "source": [
    "correlation_matrix = train.corr()\n",
    "fig, ax = plt.subplots(figsize=(20, 20))\n",
    "colormap = sns.color_palette(\"crest\", as_cmap=True)\n",
    "sns.heatmap(correlation_matrix, cmap=colormap, annot=True, fmt=\".2f\")\n",
    "plt.show()"
   ]
  },
  {
   "cell_type": "markdown",
   "id": "48c893e3",
   "metadata": {},
   "source": [
    "En el gráfico se observa que la mayoría de bombas fueron construidas hace varios años y la mayoría de esas no funcionan, entonces podría ser útil agregarla en el modelo."
   ]
  },
  {
   "cell_type": "code",
   "execution_count": 9,
   "id": "923c0003",
   "metadata": {
    "scrolled": false
   },
   "outputs": [
    {
     "data": {
      "image/png": "[encoded data removed]",
      "text/plain": [
       "<Figure size 1440x1080 with 1 Axes>"
      ]
     },
     "metadata": {
      "needs_background": "light"
     },
     "output_type": "display_data"
    }
   ],
   "source": [
    "plt.figure(figsize=(20, 15))\n",
    "sns.countplot(x=train[\"construction_year\"], hue=train[\"status_group\"])\n",
    "plt.xticks(rotation=45, horizontalalignment='right')\n",
    "plt.title(\"Número de bombas construidas en cada año\", fontsize=14)\n",
    "plt.xlabel(\"Año de construcción\", fontsize=12)\n",
    "plt.ylabel(\"Cantidad de bombas construidas\", fontsize=12)\n",
    "plt.show()"
   ]
  },
  {
   "cell_type": "markdown",
   "id": "f4cc6993",
   "metadata": {},
   "source": [
    "Se cuenta el número de valores nulos o faltantes de cada variable"
   ]
  },
  {
   "cell_type": "code",
   "execution_count": 10,
   "id": "85e2702f",
   "metadata": {},
   "outputs": [
    {
     "data": {
      "text/plain": [
       "id                           0\n",
       "amount_tsh                   0\n",
       "date_recorded                0\n",
       "funder                    3635\n",
       "gps_height                   0\n",
       "installer                 3655\n",
       "longitude                    0\n",
       "latitude                     0\n",
       "wpt_name                     0\n",
       "num_private                  0\n",
       "basin                        0\n",
       "subvillage                 371\n",
       "region                       0\n",
       "region_code                  0\n",
       "district_code                0\n",
       "lga                          0\n",
       "ward                         0\n",
       "population                   0\n",
       "public_meeting            3334\n",
       "recorded_by                  0\n",
       "scheme_management         3877\n",
       "scheme_name              28166\n",
       "permit                    3056\n",
       "construction_year            0\n",
       "extraction_type              0\n",
       "extraction_type_group        0\n",
       "extraction_type_class        0\n",
       "management                   0\n",
       "management_group             0\n",
       "payment                      0\n",
       "payment_type                 0\n",
       "water_quality                0\n",
       "quality_group                0\n",
       "quantity                     0\n",
       "quantity_group               0\n",
       "source                       0\n",
       "source_type                  0\n",
       "source_class                 0\n",
       "waterpoint_type              0\n",
       "waterpoint_type_group        0\n",
       "status_group                 0\n",
       "dtype: int64"
      ]
     },
     "execution_count": 10,
     "metadata": {},
     "output_type": "execute_result"
    }
   ],
   "source": [
    "train.apply(lambda x : sum(x.isnull()), axis = 0)"
   ]
  },
  {
   "cell_type": "markdown",
   "id": "345d9b81",
   "metadata": {},
   "source": [
    "Se procede a eliminar todas las filas donde hayan valores nulos"
   ]
  },
  {
   "cell_type": "code",
   "execution_count": 11,
   "id": "e943eeae",
   "metadata": {},
   "outputs": [],
   "source": [
    "moda = train[['funder', 'installer', 'scheme_management', 'permit', 'public_meeting']].mode().iloc[0]\n",
    "train.fillna(value=moda, inplace=True)"
   ]
  },
  {
   "cell_type": "markdown",
   "id": "95a5cdb2",
   "metadata": {},
   "source": [
    "Al tener \"recorded_by\" todas las filas con el mismo dato, se procede a eliminarla "
   ]
  },
  {
   "cell_type": "code",
   "execution_count": 12,
   "id": "9b581085",
   "metadata": {},
   "outputs": [],
   "source": [
    "train=train.drop(['recorded_by'],axis=1)"
   ]
  },
  {
   "cell_type": "markdown",
   "id": "c46779d6",
   "metadata": {},
   "source": [
    "Se observa que ambas columnas contienen información muy similar o igual"
   ]
  },
  {
   "cell_type": "code",
   "execution_count": 13,
   "id": "29950595",
   "metadata": {
    "scrolled": false
   },
   "outputs": [
    {
     "data": {
      "text/html": [
       "<div>\n",
       "<style scoped>\n",
       "    .dataframe tbody tr th:only-of-type {\n",
       "        vertical-align: middle;\n",
       "    }\n",
       "\n",
       "    .dataframe tbody tr th {\n",
       "        vertical-align: top;\n",
       "    }\n",
       "\n",
       "    .dataframe thead th {\n",
       "        text-align: right;\n",
       "    }\n",
       "</style>\n",
       "<table border=\"1\" class=\"dataframe\">\n",
       "  <thead>\n",
       "    <tr style=\"text-align: right;\">\n",
       "      <th></th>\n",
       "      <th>waterpoint_type_group</th>\n",
       "      <th>waterpoint_type</th>\n",
       "    </tr>\n",
       "  </thead>\n",
       "  <tbody>\n",
       "    <tr>\n",
       "      <th>0</th>\n",
       "      <td>communal standpipe</td>\n",
       "      <td>communal standpipe</td>\n",
       "    </tr>\n",
       "    <tr>\n",
       "      <th>1</th>\n",
       "      <td>communal standpipe</td>\n",
       "      <td>communal standpipe</td>\n",
       "    </tr>\n",
       "    <tr>\n",
       "      <th>2</th>\n",
       "      <td>communal standpipe</td>\n",
       "      <td>communal standpipe multiple</td>\n",
       "    </tr>\n",
       "    <tr>\n",
       "      <th>3</th>\n",
       "      <td>communal standpipe</td>\n",
       "      <td>communal standpipe multiple</td>\n",
       "    </tr>\n",
       "    <tr>\n",
       "      <th>4</th>\n",
       "      <td>communal standpipe</td>\n",
       "      <td>communal standpipe</td>\n",
       "    </tr>\n",
       "    <tr>\n",
       "      <th>...</th>\n",
       "      <td>...</td>\n",
       "      <td>...</td>\n",
       "    </tr>\n",
       "    <tr>\n",
       "      <th>59395</th>\n",
       "      <td>communal standpipe</td>\n",
       "      <td>communal standpipe</td>\n",
       "    </tr>\n",
       "    <tr>\n",
       "      <th>59396</th>\n",
       "      <td>communal standpipe</td>\n",
       "      <td>communal standpipe</td>\n",
       "    </tr>\n",
       "    <tr>\n",
       "      <th>59397</th>\n",
       "      <td>hand pump</td>\n",
       "      <td>hand pump</td>\n",
       "    </tr>\n",
       "    <tr>\n",
       "      <th>59398</th>\n",
       "      <td>hand pump</td>\n",
       "      <td>hand pump</td>\n",
       "    </tr>\n",
       "    <tr>\n",
       "      <th>59399</th>\n",
       "      <td>hand pump</td>\n",
       "      <td>hand pump</td>\n",
       "    </tr>\n",
       "  </tbody>\n",
       "</table>\n",
       "<p>59400 rows × 2 columns</p>\n",
       "</div>"
      ],
      "text/plain": [
       "      waterpoint_type_group              waterpoint_type\n",
       "0        communal standpipe           communal standpipe\n",
       "1        communal standpipe           communal standpipe\n",
       "2        communal standpipe  communal standpipe multiple\n",
       "3        communal standpipe  communal standpipe multiple\n",
       "4        communal standpipe           communal standpipe\n",
       "...                     ...                          ...\n",
       "59395    communal standpipe           communal standpipe\n",
       "59396    communal standpipe           communal standpipe\n",
       "59397             hand pump                    hand pump\n",
       "59398             hand pump                    hand pump\n",
       "59399             hand pump                    hand pump\n",
       "\n",
       "[59400 rows x 2 columns]"
      ]
     },
     "execution_count": 13,
     "metadata": {},
     "output_type": "execute_result"
    }
   ],
   "source": [
    "train[['waterpoint_type_group', 'waterpoint_type']]"
   ]
  },
  {
   "cell_type": "markdown",
   "id": "77cb11b5",
   "metadata": {},
   "source": [
    "Se procede a eliminar 1 porque muestran lo mismo "
   ]
  },
  {
   "cell_type": "code",
   "execution_count": 14,
   "id": "2d9a2203",
   "metadata": {},
   "outputs": [],
   "source": [
    "train=train.drop(['waterpoint_type'],axis=1)"
   ]
  },
  {
   "cell_type": "markdown",
   "id": "785b3f86",
   "metadata": {},
   "source": [
    "Lo mismo con quantity y quantity_group"
   ]
  },
  {
   "cell_type": "code",
   "execution_count": 15,
   "id": "c47b5faf",
   "metadata": {
    "scrolled": false
   },
   "outputs": [
    {
     "data": {
      "text/html": [
       "<div>\n",
       "<style scoped>\n",
       "    .dataframe tbody tr th:only-of-type {\n",
       "        vertical-align: middle;\n",
       "    }\n",
       "\n",
       "    .dataframe tbody tr th {\n",
       "        vertical-align: top;\n",
       "    }\n",
       "\n",
       "    .dataframe thead th {\n",
       "        text-align: right;\n",
       "    }\n",
       "</style>\n",
       "<table border=\"1\" class=\"dataframe\">\n",
       "  <thead>\n",
       "    <tr style=\"text-align: right;\">\n",
       "      <th></th>\n",
       "      <th>quantity</th>\n",
       "      <th>quantity_group</th>\n",
       "    </tr>\n",
       "  </thead>\n",
       "  <tbody>\n",
       "    <tr>\n",
       "      <th>0</th>\n",
       "      <td>enough</td>\n",
       "      <td>enough</td>\n",
       "    </tr>\n",
       "    <tr>\n",
       "      <th>1</th>\n",
       "      <td>insufficient</td>\n",
       "      <td>insufficient</td>\n",
       "    </tr>\n",
       "    <tr>\n",
       "      <th>2</th>\n",
       "      <td>enough</td>\n",
       "      <td>enough</td>\n",
       "    </tr>\n",
       "    <tr>\n",
       "      <th>3</th>\n",
       "      <td>dry</td>\n",
       "      <td>dry</td>\n",
       "    </tr>\n",
       "    <tr>\n",
       "      <th>4</th>\n",
       "      <td>seasonal</td>\n",
       "      <td>seasonal</td>\n",
       "    </tr>\n",
       "    <tr>\n",
       "      <th>...</th>\n",
       "      <td>...</td>\n",
       "      <td>...</td>\n",
       "    </tr>\n",
       "    <tr>\n",
       "      <th>59395</th>\n",
       "      <td>enough</td>\n",
       "      <td>enough</td>\n",
       "    </tr>\n",
       "    <tr>\n",
       "      <th>59396</th>\n",
       "      <td>enough</td>\n",
       "      <td>enough</td>\n",
       "    </tr>\n",
       "    <tr>\n",
       "      <th>59397</th>\n",
       "      <td>enough</td>\n",
       "      <td>enough</td>\n",
       "    </tr>\n",
       "    <tr>\n",
       "      <th>59398</th>\n",
       "      <td>insufficient</td>\n",
       "      <td>insufficient</td>\n",
       "    </tr>\n",
       "    <tr>\n",
       "      <th>59399</th>\n",
       "      <td>enough</td>\n",
       "      <td>enough</td>\n",
       "    </tr>\n",
       "  </tbody>\n",
       "</table>\n",
       "<p>59400 rows × 2 columns</p>\n",
       "</div>"
      ],
      "text/plain": [
       "           quantity quantity_group\n",
       "0            enough         enough\n",
       "1      insufficient   insufficient\n",
       "2            enough         enough\n",
       "3               dry            dry\n",
       "4          seasonal       seasonal\n",
       "...             ...            ...\n",
       "59395        enough         enough\n",
       "59396        enough         enough\n",
       "59397        enough         enough\n",
       "59398  insufficient   insufficient\n",
       "59399        enough         enough\n",
       "\n",
       "[59400 rows x 2 columns]"
      ]
     },
     "execution_count": 15,
     "metadata": {},
     "output_type": "execute_result"
    }
   ],
   "source": [
    "train[['quantity', 'quantity_group']]"
   ]
  },
  {
   "cell_type": "code",
   "execution_count": 16,
   "id": "1fd31e70",
   "metadata": {},
   "outputs": [],
   "source": [
    "train=train.drop(['quantity_group'],axis=1)"
   ]
  },
  {
   "cell_type": "markdown",
   "id": "fc7d7169",
   "metadata": {},
   "source": [
    "Contiene algunos valores diferentes pero se va a tratar de observar un poco más a detalle"
   ]
  },
  {
   "cell_type": "code",
   "execution_count": 17,
   "id": "10f77f98",
   "metadata": {},
   "outputs": [
    {
     "data": {
      "text/html": [
       "<div>\n",
       "<style scoped>\n",
       "    .dataframe tbody tr th:only-of-type {\n",
       "        vertical-align: middle;\n",
       "    }\n",
       "\n",
       "    .dataframe tbody tr th {\n",
       "        vertical-align: top;\n",
       "    }\n",
       "\n",
       "    .dataframe thead th {\n",
       "        text-align: right;\n",
       "    }\n",
       "</style>\n",
       "<table border=\"1\" class=\"dataframe\">\n",
       "  <thead>\n",
       "    <tr style=\"text-align: right;\">\n",
       "      <th></th>\n",
       "      <th>payment</th>\n",
       "      <th>payment_type</th>\n",
       "    </tr>\n",
       "  </thead>\n",
       "  <tbody>\n",
       "    <tr>\n",
       "      <th>0</th>\n",
       "      <td>pay annually</td>\n",
       "      <td>annually</td>\n",
       "    </tr>\n",
       "    <tr>\n",
       "      <th>1</th>\n",
       "      <td>never pay</td>\n",
       "      <td>never pay</td>\n",
       "    </tr>\n",
       "    <tr>\n",
       "      <th>2</th>\n",
       "      <td>pay per bucket</td>\n",
       "      <td>per bucket</td>\n",
       "    </tr>\n",
       "    <tr>\n",
       "      <th>3</th>\n",
       "      <td>never pay</td>\n",
       "      <td>never pay</td>\n",
       "    </tr>\n",
       "    <tr>\n",
       "      <th>4</th>\n",
       "      <td>never pay</td>\n",
       "      <td>never pay</td>\n",
       "    </tr>\n",
       "    <tr>\n",
       "      <th>...</th>\n",
       "      <td>...</td>\n",
       "      <td>...</td>\n",
       "    </tr>\n",
       "    <tr>\n",
       "      <th>59395</th>\n",
       "      <td>pay per bucket</td>\n",
       "      <td>per bucket</td>\n",
       "    </tr>\n",
       "    <tr>\n",
       "      <th>59396</th>\n",
       "      <td>pay annually</td>\n",
       "      <td>annually</td>\n",
       "    </tr>\n",
       "    <tr>\n",
       "      <th>59397</th>\n",
       "      <td>pay monthly</td>\n",
       "      <td>monthly</td>\n",
       "    </tr>\n",
       "    <tr>\n",
       "      <th>59398</th>\n",
       "      <td>never pay</td>\n",
       "      <td>never pay</td>\n",
       "    </tr>\n",
       "    <tr>\n",
       "      <th>59399</th>\n",
       "      <td>pay when scheme fails</td>\n",
       "      <td>on failure</td>\n",
       "    </tr>\n",
       "  </tbody>\n",
       "</table>\n",
       "<p>59400 rows × 2 columns</p>\n",
       "</div>"
      ],
      "text/plain": [
       "                     payment payment_type\n",
       "0               pay annually     annually\n",
       "1                  never pay    never pay\n",
       "2             pay per bucket   per bucket\n",
       "3                  never pay    never pay\n",
       "4                  never pay    never pay\n",
       "...                      ...          ...\n",
       "59395         pay per bucket   per bucket\n",
       "59396           pay annually     annually\n",
       "59397            pay monthly      monthly\n",
       "59398              never pay    never pay\n",
       "59399  pay when scheme fails   on failure\n",
       "\n",
       "[59400 rows x 2 columns]"
      ]
     },
     "execution_count": 17,
     "metadata": {},
     "output_type": "execute_result"
    }
   ],
   "source": [
    "train[['payment', 'payment_type']]"
   ]
  },
  {
   "cell_type": "code",
   "execution_count": 18,
   "id": "96ac3304",
   "metadata": {},
   "outputs": [
    {
     "data": {
      "text/plain": [
       "never pay                25348\n",
       "pay per bucket            8985\n",
       "pay monthly               8300\n",
       "unknown                   8157\n",
       "pay when scheme fails     3914\n",
       "pay annually              3642\n",
       "other                     1054\n",
       "Name: payment, dtype: int64"
      ]
     },
     "execution_count": 18,
     "metadata": {},
     "output_type": "execute_result"
    }
   ],
   "source": [
    "train['payment'].value_counts()"
   ]
  },
  {
   "cell_type": "code",
   "execution_count": 19,
   "id": "cf37ac19",
   "metadata": {},
   "outputs": [
    {
     "data": {
      "text/plain": [
       "never pay     25348\n",
       "per bucket     8985\n",
       "monthly        8300\n",
       "unknown        8157\n",
       "on failure     3914\n",
       "annually       3642\n",
       "other          1054\n",
       "Name: payment_type, dtype: int64"
      ]
     },
     "execution_count": 19,
     "metadata": {},
     "output_type": "execute_result"
    }
   ],
   "source": [
    "train['payment_type'].value_counts()"
   ]
  },
  {
   "cell_type": "code",
   "execution_count": 20,
   "id": "99327194",
   "metadata": {},
   "outputs": [],
   "source": [
    "train = train.drop(['payment'], axis=1)"
   ]
  },
  {
   "cell_type": "markdown",
   "id": "20501f20",
   "metadata": {},
   "source": [
    "Se convierten las variables categóricas en numéricas a través de LabelEncoder"
   ]
  },
  {
   "cell_type": "code",
   "execution_count": 21,
   "id": "96066cf6",
   "metadata": {},
   "outputs": [],
   "source": [
    "number = preprocessing.LabelEncoder()\n",
    "train = train.astype(str)\n",
    "train = train.apply(number.fit_transform)\n",
    "train = train.fillna(-999)"
   ]
  },
  {
   "cell_type": "code",
   "execution_count": 22,
   "id": "34bbba5a",
   "metadata": {},
   "outputs": [],
   "source": [
    "test = pd.read_csv('C:\\\\Users\\\\ezequ\\\\env\\\\test_set_values.csv')"
   ]
  },
  {
   "cell_type": "code",
   "execution_count": 23,
   "id": "ccdad656",
   "metadata": {},
   "outputs": [
    {
     "data": {
      "text/html": [
       "<div>\n",
       "<style scoped>\n",
       "    .dataframe tbody tr th:only-of-type {\n",
       "        vertical-align: middle;\n",
       "    }\n",
       "\n",
       "    .dataframe tbody tr th {\n",
       "        vertical-align: top;\n",
       "    }\n",
       "\n",
       "    .dataframe thead th {\n",
       "        text-align: right;\n",
       "    }\n",
       "</style>\n",
       "<table border=\"1\" class=\"dataframe\">\n",
       "  <thead>\n",
       "    <tr style=\"text-align: right;\">\n",
       "      <th></th>\n",
       "      <th>id</th>\n",
       "      <th>amount_tsh</th>\n",
       "      <th>date_recorded</th>\n",
       "      <th>funder</th>\n",
       "      <th>gps_height</th>\n",
       "      <th>installer</th>\n",
       "      <th>longitude</th>\n",
       "      <th>latitude</th>\n",
       "      <th>wpt_name</th>\n",
       "      <th>num_private</th>\n",
       "      <th>...</th>\n",
       "      <th>payment_type</th>\n",
       "      <th>water_quality</th>\n",
       "      <th>quality_group</th>\n",
       "      <th>quantity</th>\n",
       "      <th>quantity_group</th>\n",
       "      <th>source</th>\n",
       "      <th>source_type</th>\n",
       "      <th>source_class</th>\n",
       "      <th>waterpoint_type</th>\n",
       "      <th>waterpoint_type_group</th>\n",
       "    </tr>\n",
       "  </thead>\n",
       "  <tbody>\n",
       "    <tr>\n",
       "      <th>0</th>\n",
       "      <td>50785</td>\n",
       "      <td>0.0</td>\n",
       "      <td>2013-02-04</td>\n",
       "      <td>Dmdd</td>\n",
       "      <td>1996</td>\n",
       "      <td>DMDD</td>\n",
       "      <td>35.290799</td>\n",
       "      <td>-4.059696</td>\n",
       "      <td>Dinamu Secondary School</td>\n",
       "      <td>0</td>\n",
       "      <td>...</td>\n",
       "      <td>never pay</td>\n",
       "      <td>soft</td>\n",
       "      <td>good</td>\n",
       "      <td>seasonal</td>\n",
       "      <td>seasonal</td>\n",
       "      <td>rainwater harvesting</td>\n",
       "      <td>rainwater harvesting</td>\n",
       "      <td>surface</td>\n",
       "      <td>other</td>\n",
       "      <td>other</td>\n",
       "    </tr>\n",
       "    <tr>\n",
       "      <th>1</th>\n",
       "      <td>51630</td>\n",
       "      <td>0.0</td>\n",
       "      <td>2013-02-04</td>\n",
       "      <td>Government Of Tanzania</td>\n",
       "      <td>1569</td>\n",
       "      <td>DWE</td>\n",
       "      <td>36.656709</td>\n",
       "      <td>-3.309214</td>\n",
       "      <td>Kimnyak</td>\n",
       "      <td>0</td>\n",
       "      <td>...</td>\n",
       "      <td>never pay</td>\n",
       "      <td>soft</td>\n",
       "      <td>good</td>\n",
       "      <td>insufficient</td>\n",
       "      <td>insufficient</td>\n",
       "      <td>spring</td>\n",
       "      <td>spring</td>\n",
       "      <td>groundwater</td>\n",
       "      <td>communal standpipe</td>\n",
       "      <td>communal standpipe</td>\n",
       "    </tr>\n",
       "    <tr>\n",
       "      <th>2</th>\n",
       "      <td>17168</td>\n",
       "      <td>0.0</td>\n",
       "      <td>2013-02-01</td>\n",
       "      <td>NaN</td>\n",
       "      <td>1567</td>\n",
       "      <td>NaN</td>\n",
       "      <td>34.767863</td>\n",
       "      <td>-5.004344</td>\n",
       "      <td>Puma Secondary</td>\n",
       "      <td>0</td>\n",
       "      <td>...</td>\n",
       "      <td>never pay</td>\n",
       "      <td>soft</td>\n",
       "      <td>good</td>\n",
       "      <td>insufficient</td>\n",
       "      <td>insufficient</td>\n",
       "      <td>rainwater harvesting</td>\n",
       "      <td>rainwater harvesting</td>\n",
       "      <td>surface</td>\n",
       "      <td>other</td>\n",
       "      <td>other</td>\n",
       "    </tr>\n",
       "    <tr>\n",
       "      <th>3</th>\n",
       "      <td>45559</td>\n",
       "      <td>0.0</td>\n",
       "      <td>2013-01-22</td>\n",
       "      <td>Finn Water</td>\n",
       "      <td>267</td>\n",
       "      <td>FINN WATER</td>\n",
       "      <td>38.058046</td>\n",
       "      <td>-9.418672</td>\n",
       "      <td>Kwa Mzee Pange</td>\n",
       "      <td>0</td>\n",
       "      <td>...</td>\n",
       "      <td>unknown</td>\n",
       "      <td>soft</td>\n",
       "      <td>good</td>\n",
       "      <td>dry</td>\n",
       "      <td>dry</td>\n",
       "      <td>shallow well</td>\n",
       "      <td>shallow well</td>\n",
       "      <td>groundwater</td>\n",
       "      <td>other</td>\n",
       "      <td>other</td>\n",
       "    </tr>\n",
       "    <tr>\n",
       "      <th>4</th>\n",
       "      <td>49871</td>\n",
       "      <td>500.0</td>\n",
       "      <td>2013-03-27</td>\n",
       "      <td>Bruder</td>\n",
       "      <td>1260</td>\n",
       "      <td>BRUDER</td>\n",
       "      <td>35.006123</td>\n",
       "      <td>-10.950412</td>\n",
       "      <td>Kwa Mzee Turuka</td>\n",
       "      <td>0</td>\n",
       "      <td>...</td>\n",
       "      <td>monthly</td>\n",
       "      <td>soft</td>\n",
       "      <td>good</td>\n",
       "      <td>enough</td>\n",
       "      <td>enough</td>\n",
       "      <td>spring</td>\n",
       "      <td>spring</td>\n",
       "      <td>groundwater</td>\n",
       "      <td>communal standpipe</td>\n",
       "      <td>communal standpipe</td>\n",
       "    </tr>\n",
       "    <tr>\n",
       "      <th>...</th>\n",
       "      <td>...</td>\n",
       "      <td>...</td>\n",
       "      <td>...</td>\n",
       "      <td>...</td>\n",
       "      <td>...</td>\n",
       "      <td>...</td>\n",
       "      <td>...</td>\n",
       "      <td>...</td>\n",
       "      <td>...</td>\n",
       "      <td>...</td>\n",
       "      <td>...</td>\n",
       "      <td>...</td>\n",
       "      <td>...</td>\n",
       "      <td>...</td>\n",
       "      <td>...</td>\n",
       "      <td>...</td>\n",
       "      <td>...</td>\n",
       "      <td>...</td>\n",
       "      <td>...</td>\n",
       "      <td>...</td>\n",
       "      <td>...</td>\n",
       "    </tr>\n",
       "    <tr>\n",
       "      <th>14845</th>\n",
       "      <td>39307</td>\n",
       "      <td>0.0</td>\n",
       "      <td>2011-02-24</td>\n",
       "      <td>Danida</td>\n",
       "      <td>34</td>\n",
       "      <td>Da</td>\n",
       "      <td>38.852669</td>\n",
       "      <td>-6.582841</td>\n",
       "      <td>Kwambwezi</td>\n",
       "      <td>0</td>\n",
       "      <td>...</td>\n",
       "      <td>never pay</td>\n",
       "      <td>soft</td>\n",
       "      <td>good</td>\n",
       "      <td>enough</td>\n",
       "      <td>enough</td>\n",
       "      <td>river</td>\n",
       "      <td>river/lake</td>\n",
       "      <td>surface</td>\n",
       "      <td>communal standpipe</td>\n",
       "      <td>communal standpipe</td>\n",
       "    </tr>\n",
       "    <tr>\n",
       "      <th>14846</th>\n",
       "      <td>18990</td>\n",
       "      <td>1000.0</td>\n",
       "      <td>2011-03-21</td>\n",
       "      <td>Hiap</td>\n",
       "      <td>0</td>\n",
       "      <td>HIAP</td>\n",
       "      <td>37.451633</td>\n",
       "      <td>-5.350428</td>\n",
       "      <td>Bonde La Mkondoa</td>\n",
       "      <td>0</td>\n",
       "      <td>...</td>\n",
       "      <td>annually</td>\n",
       "      <td>salty</td>\n",
       "      <td>salty</td>\n",
       "      <td>insufficient</td>\n",
       "      <td>insufficient</td>\n",
       "      <td>shallow well</td>\n",
       "      <td>shallow well</td>\n",
       "      <td>groundwater</td>\n",
       "      <td>hand pump</td>\n",
       "      <td>hand pump</td>\n",
       "    </tr>\n",
       "    <tr>\n",
       "      <th>14847</th>\n",
       "      <td>28749</td>\n",
       "      <td>0.0</td>\n",
       "      <td>2013-03-04</td>\n",
       "      <td>NaN</td>\n",
       "      <td>1476</td>\n",
       "      <td>NaN</td>\n",
       "      <td>34.739804</td>\n",
       "      <td>-4.585587</td>\n",
       "      <td>Bwawani</td>\n",
       "      <td>0</td>\n",
       "      <td>...</td>\n",
       "      <td>never pay</td>\n",
       "      <td>soft</td>\n",
       "      <td>good</td>\n",
       "      <td>insufficient</td>\n",
       "      <td>insufficient</td>\n",
       "      <td>dam</td>\n",
       "      <td>dam</td>\n",
       "      <td>surface</td>\n",
       "      <td>communal standpipe</td>\n",
       "      <td>communal standpipe</td>\n",
       "    </tr>\n",
       "    <tr>\n",
       "      <th>14848</th>\n",
       "      <td>33492</td>\n",
       "      <td>0.0</td>\n",
       "      <td>2013-02-18</td>\n",
       "      <td>Germany</td>\n",
       "      <td>998</td>\n",
       "      <td>DWE</td>\n",
       "      <td>35.432732</td>\n",
       "      <td>-10.584159</td>\n",
       "      <td>Kwa John</td>\n",
       "      <td>0</td>\n",
       "      <td>...</td>\n",
       "      <td>never pay</td>\n",
       "      <td>soft</td>\n",
       "      <td>good</td>\n",
       "      <td>insufficient</td>\n",
       "      <td>insufficient</td>\n",
       "      <td>river</td>\n",
       "      <td>river/lake</td>\n",
       "      <td>surface</td>\n",
       "      <td>communal standpipe</td>\n",
       "      <td>communal standpipe</td>\n",
       "    </tr>\n",
       "    <tr>\n",
       "      <th>14849</th>\n",
       "      <td>68707</td>\n",
       "      <td>0.0</td>\n",
       "      <td>2013-02-13</td>\n",
       "      <td>Government Of Tanzania</td>\n",
       "      <td>481</td>\n",
       "      <td>Government</td>\n",
       "      <td>34.765054</td>\n",
       "      <td>-11.226012</td>\n",
       "      <td>Kwa Mzee Chagala</td>\n",
       "      <td>0</td>\n",
       "      <td>...</td>\n",
       "      <td>never pay</td>\n",
       "      <td>soft</td>\n",
       "      <td>good</td>\n",
       "      <td>dry</td>\n",
       "      <td>dry</td>\n",
       "      <td>spring</td>\n",
       "      <td>spring</td>\n",
       "      <td>groundwater</td>\n",
       "      <td>communal standpipe</td>\n",
       "      <td>communal standpipe</td>\n",
       "    </tr>\n",
       "  </tbody>\n",
       "</table>\n",
       "<p>14850 rows × 40 columns</p>\n",
       "</div>"
      ],
      "text/plain": [
       "          id  amount_tsh date_recorded                  funder  gps_height  \\\n",
       "0      50785         0.0    2013-02-04                    Dmdd        1996   \n",
       "1      51630         0.0    2013-02-04  Government Of Tanzania        1569   \n",
       "2      17168         0.0    2013-02-01                     NaN        1567   \n",
       "3      45559         0.0    2013-01-22              Finn Water         267   \n",
       "4      49871       500.0    2013-03-27                  Bruder        1260   \n",
       "...      ...         ...           ...                     ...         ...   \n",
       "14845  39307         0.0    2011-02-24                  Danida          34   \n",
       "14846  18990      1000.0    2011-03-21                    Hiap           0   \n",
       "14847  28749         0.0    2013-03-04                     NaN        1476   \n",
       "14848  33492         0.0    2013-02-18                 Germany         998   \n",
       "14849  68707         0.0    2013-02-13  Government Of Tanzania         481   \n",
       "\n",
       "        installer  longitude   latitude                 wpt_name  num_private  \\\n",
       "0            DMDD  35.290799  -4.059696  Dinamu Secondary School            0   \n",
       "1             DWE  36.656709  -3.309214                  Kimnyak            0   \n",
       "2             NaN  34.767863  -5.004344           Puma Secondary            0   \n",
       "3      FINN WATER  38.058046  -9.418672           Kwa Mzee Pange            0   \n",
       "4          BRUDER  35.006123 -10.950412          Kwa Mzee Turuka            0   \n",
       "...           ...        ...        ...                      ...          ...   \n",
       "14845          Da  38.852669  -6.582841                Kwambwezi            0   \n",
       "14846        HIAP  37.451633  -5.350428         Bonde La Mkondoa            0   \n",
       "14847         NaN  34.739804  -4.585587                  Bwawani            0   \n",
       "14848         DWE  35.432732 -10.584159                 Kwa John            0   \n",
       "14849  Government  34.765054 -11.226012         Kwa Mzee Chagala            0   \n",
       "\n",
       "       ... payment_type water_quality quality_group      quantity  \\\n",
       "0      ...    never pay          soft          good      seasonal   \n",
       "1      ...    never pay          soft          good  insufficient   \n",
       "2      ...    never pay          soft          good  insufficient   \n",
       "3      ...      unknown          soft          good           dry   \n",
       "4      ...      monthly          soft          good        enough   \n",
       "...    ...          ...           ...           ...           ...   \n",
       "14845  ...    never pay          soft          good        enough   \n",
       "14846  ...     annually         salty         salty  insufficient   \n",
       "14847  ...    never pay          soft          good  insufficient   \n",
       "14848  ...    never pay          soft          good  insufficient   \n",
       "14849  ...    never pay          soft          good           dry   \n",
       "\n",
       "       quantity_group                source           source_type  \\\n",
       "0            seasonal  rainwater harvesting  rainwater harvesting   \n",
       "1        insufficient                spring                spring   \n",
       "2        insufficient  rainwater harvesting  rainwater harvesting   \n",
       "3                 dry          shallow well          shallow well   \n",
       "4              enough                spring                spring   \n",
       "...               ...                   ...                   ...   \n",
       "14845          enough                 river            river/lake   \n",
       "14846    insufficient          shallow well          shallow well   \n",
       "14847    insufficient                   dam                   dam   \n",
       "14848    insufficient                 river            river/lake   \n",
       "14849             dry                spring                spring   \n",
       "\n",
       "       source_class     waterpoint_type waterpoint_type_group  \n",
       "0           surface               other                 other  \n",
       "1       groundwater  communal standpipe    communal standpipe  \n",
       "2           surface               other                 other  \n",
       "3       groundwater               other                 other  \n",
       "4       groundwater  communal standpipe    communal standpipe  \n",
       "...             ...                 ...                   ...  \n",
       "14845       surface  communal standpipe    communal standpipe  \n",
       "14846   groundwater           hand pump             hand pump  \n",
       "14847       surface  communal standpipe    communal standpipe  \n",
       "14848       surface  communal standpipe    communal standpipe  \n",
       "14849   groundwater  communal standpipe    communal standpipe  \n",
       "\n",
       "[14850 rows x 40 columns]"
      ]
     },
     "execution_count": 23,
     "metadata": {},
     "output_type": "execute_result"
    }
   ],
   "source": [
    "test"
   ]
  },
  {
   "cell_type": "markdown",
   "id": "c890fa50",
   "metadata": {},
   "source": [
    "Se procede a realizar los mismos pasos en "
   ]
  },
  {
   "cell_type": "code",
   "execution_count": 24,
   "id": "4e10973a",
   "metadata": {},
   "outputs": [
    {
     "data": {
      "text/plain": [
       "id                          0\n",
       "amount_tsh                  0\n",
       "date_recorded               0\n",
       "funder                    869\n",
       "gps_height                  0\n",
       "installer                 877\n",
       "longitude                   0\n",
       "latitude                    0\n",
       "wpt_name                    0\n",
       "num_private                 0\n",
       "basin                       0\n",
       "subvillage                 99\n",
       "region                      0\n",
       "region_code                 0\n",
       "district_code               0\n",
       "lga                         0\n",
       "ward                        0\n",
       "population                  0\n",
       "public_meeting            821\n",
       "recorded_by                 0\n",
       "scheme_management         969\n",
       "scheme_name              7092\n",
       "permit                    737\n",
       "construction_year           0\n",
       "extraction_type             0\n",
       "extraction_type_group       0\n",
       "extraction_type_class       0\n",
       "management                  0\n",
       "management_group            0\n",
       "payment                     0\n",
       "payment_type                0\n",
       "water_quality               0\n",
       "quality_group               0\n",
       "quantity                    0\n",
       "quantity_group              0\n",
       "source                      0\n",
       "source_type                 0\n",
       "source_class                0\n",
       "waterpoint_type             0\n",
       "waterpoint_type_group       0\n",
       "dtype: int64"
      ]
     },
     "execution_count": 24,
     "metadata": {},
     "output_type": "execute_result"
    }
   ],
   "source": [
    "test.apply(lambda x : sum(x.isnull()), axis = 0)"
   ]
  },
  {
   "cell_type": "markdown",
   "id": "6ab73fc2",
   "metadata": {},
   "source": [
    "Se procede a eliminar todas las filas donde hayan valores nulos"
   ]
  },
  {
   "cell_type": "code",
   "execution_count": 25,
   "id": "00dc8648",
   "metadata": {},
   "outputs": [],
   "source": [
    "moda = test[['funder', 'installer', 'scheme_management', 'permit', 'public_meeting']].mode().iloc[0]\n",
    "test.fillna(value=moda, inplace=True)"
   ]
  },
  {
   "cell_type": "markdown",
   "id": "54b455ee",
   "metadata": {},
   "source": [
    "Al tener todas las filas con el mismo dato, se procede a eliminarla "
   ]
  },
  {
   "cell_type": "code",
   "execution_count": 26,
   "id": "b05dddcc",
   "metadata": {},
   "outputs": [],
   "source": [
    "test=test.drop(['recorded_by'],axis=1)"
   ]
  },
  {
   "cell_type": "markdown",
   "id": "d2ae3185",
   "metadata": {},
   "source": [
    "Se observa que ambas columnas contienen información muy similar o igual"
   ]
  },
  {
   "cell_type": "code",
   "execution_count": 27,
   "id": "f1f0564a",
   "metadata": {},
   "outputs": [
    {
     "data": {
      "text/html": [
       "<div>\n",
       "<style scoped>\n",
       "    .dataframe tbody tr th:only-of-type {\n",
       "        vertical-align: middle;\n",
       "    }\n",
       "\n",
       "    .dataframe tbody tr th {\n",
       "        vertical-align: top;\n",
       "    }\n",
       "\n",
       "    .dataframe thead th {\n",
       "        text-align: right;\n",
       "    }\n",
       "</style>\n",
       "<table border=\"1\" class=\"dataframe\">\n",
       "  <thead>\n",
       "    <tr style=\"text-align: right;\">\n",
       "      <th></th>\n",
       "      <th>waterpoint_type_group</th>\n",
       "      <th>waterpoint_type</th>\n",
       "    </tr>\n",
       "  </thead>\n",
       "  <tbody>\n",
       "    <tr>\n",
       "      <th>0</th>\n",
       "      <td>other</td>\n",
       "      <td>other</td>\n",
       "    </tr>\n",
       "    <tr>\n",
       "      <th>1</th>\n",
       "      <td>communal standpipe</td>\n",
       "      <td>communal standpipe</td>\n",
       "    </tr>\n",
       "    <tr>\n",
       "      <th>2</th>\n",
       "      <td>other</td>\n",
       "      <td>other</td>\n",
       "    </tr>\n",
       "    <tr>\n",
       "      <th>3</th>\n",
       "      <td>other</td>\n",
       "      <td>other</td>\n",
       "    </tr>\n",
       "    <tr>\n",
       "      <th>4</th>\n",
       "      <td>communal standpipe</td>\n",
       "      <td>communal standpipe</td>\n",
       "    </tr>\n",
       "    <tr>\n",
       "      <th>...</th>\n",
       "      <td>...</td>\n",
       "      <td>...</td>\n",
       "    </tr>\n",
       "    <tr>\n",
       "      <th>14845</th>\n",
       "      <td>communal standpipe</td>\n",
       "      <td>communal standpipe</td>\n",
       "    </tr>\n",
       "    <tr>\n",
       "      <th>14846</th>\n",
       "      <td>hand pump</td>\n",
       "      <td>hand pump</td>\n",
       "    </tr>\n",
       "    <tr>\n",
       "      <th>14847</th>\n",
       "      <td>communal standpipe</td>\n",
       "      <td>communal standpipe</td>\n",
       "    </tr>\n",
       "    <tr>\n",
       "      <th>14848</th>\n",
       "      <td>communal standpipe</td>\n",
       "      <td>communal standpipe</td>\n",
       "    </tr>\n",
       "    <tr>\n",
       "      <th>14849</th>\n",
       "      <td>communal standpipe</td>\n",
       "      <td>communal standpipe</td>\n",
       "    </tr>\n",
       "  </tbody>\n",
       "</table>\n",
       "<p>14850 rows × 2 columns</p>\n",
       "</div>"
      ],
      "text/plain": [
       "      waterpoint_type_group     waterpoint_type\n",
       "0                     other               other\n",
       "1        communal standpipe  communal standpipe\n",
       "2                     other               other\n",
       "3                     other               other\n",
       "4        communal standpipe  communal standpipe\n",
       "...                     ...                 ...\n",
       "14845    communal standpipe  communal standpipe\n",
       "14846             hand pump           hand pump\n",
       "14847    communal standpipe  communal standpipe\n",
       "14848    communal standpipe  communal standpipe\n",
       "14849    communal standpipe  communal standpipe\n",
       "\n",
       "[14850 rows x 2 columns]"
      ]
     },
     "execution_count": 27,
     "metadata": {},
     "output_type": "execute_result"
    }
   ],
   "source": [
    "test[['waterpoint_type_group', 'waterpoint_type']]"
   ]
  },
  {
   "cell_type": "markdown",
   "id": "95ccb10a",
   "metadata": {},
   "source": [
    "Se procede a eliminar 1 de las 2 variables porque muestran lo mismo "
   ]
  },
  {
   "cell_type": "code",
   "execution_count": 28,
   "id": "f89aed5d",
   "metadata": {},
   "outputs": [],
   "source": [
    "test = test.drop(['waterpoint_type'], axis=1)"
   ]
  },
  {
   "cell_type": "code",
   "execution_count": 29,
   "id": "5570d263",
   "metadata": {},
   "outputs": [
    {
     "data": {
      "text/html": [
       "<div>\n",
       "<style scoped>\n",
       "    .dataframe tbody tr th:only-of-type {\n",
       "        vertical-align: middle;\n",
       "    }\n",
       "\n",
       "    .dataframe tbody tr th {\n",
       "        vertical-align: top;\n",
       "    }\n",
       "\n",
       "    .dataframe thead th {\n",
       "        text-align: right;\n",
       "    }\n",
       "</style>\n",
       "<table border=\"1\" class=\"dataframe\">\n",
       "  <thead>\n",
       "    <tr style=\"text-align: right;\">\n",
       "      <th></th>\n",
       "      <th>quantity</th>\n",
       "      <th>quantity_group</th>\n",
       "    </tr>\n",
       "  </thead>\n",
       "  <tbody>\n",
       "    <tr>\n",
       "      <th>0</th>\n",
       "      <td>seasonal</td>\n",
       "      <td>seasonal</td>\n",
       "    </tr>\n",
       "    <tr>\n",
       "      <th>1</th>\n",
       "      <td>insufficient</td>\n",
       "      <td>insufficient</td>\n",
       "    </tr>\n",
       "    <tr>\n",
       "      <th>2</th>\n",
       "      <td>insufficient</td>\n",
       "      <td>insufficient</td>\n",
       "    </tr>\n",
       "    <tr>\n",
       "      <th>3</th>\n",
       "      <td>dry</td>\n",
       "      <td>dry</td>\n",
       "    </tr>\n",
       "    <tr>\n",
       "      <th>4</th>\n",
       "      <td>enough</td>\n",
       "      <td>enough</td>\n",
       "    </tr>\n",
       "    <tr>\n",
       "      <th>...</th>\n",
       "      <td>...</td>\n",
       "      <td>...</td>\n",
       "    </tr>\n",
       "    <tr>\n",
       "      <th>14845</th>\n",
       "      <td>enough</td>\n",
       "      <td>enough</td>\n",
       "    </tr>\n",
       "    <tr>\n",
       "      <th>14846</th>\n",
       "      <td>insufficient</td>\n",
       "      <td>insufficient</td>\n",
       "    </tr>\n",
       "    <tr>\n",
       "      <th>14847</th>\n",
       "      <td>insufficient</td>\n",
       "      <td>insufficient</td>\n",
       "    </tr>\n",
       "    <tr>\n",
       "      <th>14848</th>\n",
       "      <td>insufficient</td>\n",
       "      <td>insufficient</td>\n",
       "    </tr>\n",
       "    <tr>\n",
       "      <th>14849</th>\n",
       "      <td>dry</td>\n",
       "      <td>dry</td>\n",
       "    </tr>\n",
       "  </tbody>\n",
       "</table>\n",
       "<p>14850 rows × 2 columns</p>\n",
       "</div>"
      ],
      "text/plain": [
       "           quantity quantity_group\n",
       "0          seasonal       seasonal\n",
       "1      insufficient   insufficient\n",
       "2      insufficient   insufficient\n",
       "3               dry            dry\n",
       "4            enough         enough\n",
       "...             ...            ...\n",
       "14845        enough         enough\n",
       "14846  insufficient   insufficient\n",
       "14847  insufficient   insufficient\n",
       "14848  insufficient   insufficient\n",
       "14849           dry            dry\n",
       "\n",
       "[14850 rows x 2 columns]"
      ]
     },
     "execution_count": 29,
     "metadata": {},
     "output_type": "execute_result"
    }
   ],
   "source": [
    "test[['quantity', 'quantity_group']]"
   ]
  },
  {
   "cell_type": "code",
   "execution_count": 30,
   "id": "173cb06c",
   "metadata": {},
   "outputs": [],
   "source": [
    "test=test.drop(['quantity_group'],axis=1)"
   ]
  },
  {
   "cell_type": "code",
   "execution_count": 31,
   "id": "aea4b721",
   "metadata": {},
   "outputs": [
    {
     "data": {
      "text/html": [
       "<div>\n",
       "<style scoped>\n",
       "    .dataframe tbody tr th:only-of-type {\n",
       "        vertical-align: middle;\n",
       "    }\n",
       "\n",
       "    .dataframe tbody tr th {\n",
       "        vertical-align: top;\n",
       "    }\n",
       "\n",
       "    .dataframe thead th {\n",
       "        text-align: right;\n",
       "    }\n",
       "</style>\n",
       "<table border=\"1\" class=\"dataframe\">\n",
       "  <thead>\n",
       "    <tr style=\"text-align: right;\">\n",
       "      <th></th>\n",
       "      <th>payment</th>\n",
       "      <th>payment_type</th>\n",
       "    </tr>\n",
       "  </thead>\n",
       "  <tbody>\n",
       "    <tr>\n",
       "      <th>0</th>\n",
       "      <td>never pay</td>\n",
       "      <td>never pay</td>\n",
       "    </tr>\n",
       "    <tr>\n",
       "      <th>1</th>\n",
       "      <td>never pay</td>\n",
       "      <td>never pay</td>\n",
       "    </tr>\n",
       "    <tr>\n",
       "      <th>2</th>\n",
       "      <td>never pay</td>\n",
       "      <td>never pay</td>\n",
       "    </tr>\n",
       "    <tr>\n",
       "      <th>3</th>\n",
       "      <td>unknown</td>\n",
       "      <td>unknown</td>\n",
       "    </tr>\n",
       "    <tr>\n",
       "      <th>4</th>\n",
       "      <td>pay monthly</td>\n",
       "      <td>monthly</td>\n",
       "    </tr>\n",
       "    <tr>\n",
       "      <th>...</th>\n",
       "      <td>...</td>\n",
       "      <td>...</td>\n",
       "    </tr>\n",
       "    <tr>\n",
       "      <th>14845</th>\n",
       "      <td>never pay</td>\n",
       "      <td>never pay</td>\n",
       "    </tr>\n",
       "    <tr>\n",
       "      <th>14846</th>\n",
       "      <td>pay annually</td>\n",
       "      <td>annually</td>\n",
       "    </tr>\n",
       "    <tr>\n",
       "      <th>14847</th>\n",
       "      <td>never pay</td>\n",
       "      <td>never pay</td>\n",
       "    </tr>\n",
       "    <tr>\n",
       "      <th>14848</th>\n",
       "      <td>never pay</td>\n",
       "      <td>never pay</td>\n",
       "    </tr>\n",
       "    <tr>\n",
       "      <th>14849</th>\n",
       "      <td>never pay</td>\n",
       "      <td>never pay</td>\n",
       "    </tr>\n",
       "  </tbody>\n",
       "</table>\n",
       "<p>14850 rows × 2 columns</p>\n",
       "</div>"
      ],
      "text/plain": [
       "            payment payment_type\n",
       "0         never pay    never pay\n",
       "1         never pay    never pay\n",
       "2         never pay    never pay\n",
       "3           unknown      unknown\n",
       "4       pay monthly      monthly\n",
       "...             ...          ...\n",
       "14845     never pay    never pay\n",
       "14846  pay annually     annually\n",
       "14847     never pay    never pay\n",
       "14848     never pay    never pay\n",
       "14849     never pay    never pay\n",
       "\n",
       "[14850 rows x 2 columns]"
      ]
     },
     "execution_count": 31,
     "metadata": {},
     "output_type": "execute_result"
    }
   ],
   "source": [
    "test[['payment', 'payment_type']]"
   ]
  },
  {
   "cell_type": "code",
   "execution_count": 32,
   "id": "60c861ed",
   "metadata": {},
   "outputs": [
    {
     "data": {
      "text/plain": [
       "never pay                6364\n",
       "pay per bucket           2281\n",
       "pay monthly              2097\n",
       "unknown                  1992\n",
       "pay annually              928\n",
       "pay when scheme fails     928\n",
       "other                     260\n",
       "Name: payment, dtype: int64"
      ]
     },
     "execution_count": 32,
     "metadata": {},
     "output_type": "execute_result"
    }
   ],
   "source": [
    "test['payment'].value_counts()"
   ]
  },
  {
   "cell_type": "code",
   "execution_count": 33,
   "id": "3596b98b",
   "metadata": {},
   "outputs": [
    {
     "data": {
      "text/plain": [
       "never pay     6364\n",
       "per bucket    2281\n",
       "monthly       2097\n",
       "unknown       1992\n",
       "annually       928\n",
       "on failure     928\n",
       "other          260\n",
       "Name: payment_type, dtype: int64"
      ]
     },
     "execution_count": 33,
     "metadata": {},
     "output_type": "execute_result"
    }
   ],
   "source": [
    "test['payment_type'].value_counts()"
   ]
  },
  {
   "cell_type": "code",
   "execution_count": 34,
   "id": "fc251ee5",
   "metadata": {},
   "outputs": [],
   "source": [
    "test = test.drop(['payment'], axis=1)"
   ]
  },
  {
   "cell_type": "markdown",
   "id": "bae81a95",
   "metadata": {},
   "source": [
    "Se convierten las variables categóricas a numericas a través de label Encoder para test"
   ]
  },
  {
   "cell_type": "code",
   "execution_count": 35,
   "id": "bcb7523f",
   "metadata": {},
   "outputs": [],
   "source": [
    "number = preprocessing.LabelEncoder()\n",
    "test = test.astype(str)\n",
    "test = test.apply(number.fit_transform)"
   ]
  },
  {
   "cell_type": "code",
   "execution_count": 36,
   "id": "87f21862",
   "metadata": {},
   "outputs": [],
   "source": [
    "X_train, X_test, y_train, y_test = train_test_split(train.drop('status_group', axis=1), train['status_group'], test_size=0.25, random_state=42)\n"
   ]
  },
  {
   "cell_type": "markdown",
   "id": "3ae66d30",
   "metadata": {},
   "source": [
    "XGB Classifier con modelo 1"
   ]
  },
  {
   "cell_type": "code",
   "execution_count": 37,
   "id": "cb69b1ec",
   "metadata": {},
   "outputs": [],
   "source": [
    "model = xgb.XGBClassifier(objective='multi:softmax', num_class=3, max_depth=6, learning_rate=0.1, n_estimators=100, seed=42)"
   ]
  },
  {
   "cell_type": "code",
   "execution_count": 38,
   "id": "483bf621",
   "metadata": {},
   "outputs": [
    {
     "data": {
      "text/html": [
       "<style>#sk-container-id-1 {color: black;background-color: white;}#sk-container-id-1 pre{padding: 0;}#sk-container-id-1 div.sk-toggleable {background-color: white;}#sk-container-id-1 label.sk-toggleable__label {cursor: pointer;display: block;width: 100%;margin-bottom: 0;padding: 0.3em;box-sizing: border-box;text-align: center;}#sk-container-id-1 label.sk-toggleable__label-arrow:before {content: \"▸\";float: left;margin-right: 0.25em;color: #696969;}#sk-container-id-1 label.sk-toggleable__label-arrow:hover:before {color: black;}#sk-container-id-1 div.sk-estimator:hover label.sk-toggleable__label-arrow:before {color: black;}#sk-container-id-1 div.sk-toggleable__content {max-height: 0;max-width: 0;overflow: hidden;text-align: left;background-color: #f0f8ff;}#sk-container-id-1 div.sk-toggleable__content pre {margin: 0.2em;color: black;border-radius: 0.25em;background-color: #f0f8ff;}#sk-container-id-1 input.sk-toggleable__control:checked~div.sk-toggleable__content {max-height: 200px;max-width: 100%;overflow: auto;}#sk-container-id-1 input.sk-toggleable__control:checked~label.sk-toggleable__label-arrow:before {content: \"▾\";}#sk-container-id-1 div.sk-estimator input.sk-toggleable__control:checked~label.sk-toggleable__label {background-color: #d4ebff;}#sk-container-id-1 div.sk-label input.sk-toggleable__control:checked~label.sk-toggleable__label {background-color: #d4ebff;}#sk-container-id-1 input.sk-hidden--visually {border: 0;clip: rect(1px 1px 1px 1px);clip: rect(1px, 1px, 1px, 1px);height: 1px;margin: -1px;overflow: hidden;padding: 0;position: absolute;width: 1px;}#sk-container-id-1 div.sk-estimator {font-family: monospace;background-color: #f0f8ff;border: 1px dotted black;border-radius: 0.25em;box-sizing: border-box;margin-bottom: 0.5em;}#sk-container-id-1 div.sk-estimator:hover {background-color: #d4ebff;}#sk-container-id-1 div.sk-parallel-item::after {content: \"\";width: 100%;border-bottom: 1px solid gray;flex-grow: 1;}#sk-container-id-1 div.sk-label:hover label.sk-toggleable__label {background-color: #d4ebff;}#sk-container-id-1 div.sk-serial::before {content: \"\";position: absolute;border-left: 1px solid gray;box-sizing: border-box;top: 0;bottom: 0;left: 50%;z-index: 0;}#sk-container-id-1 div.sk-serial {display: flex;flex-direction: column;align-items: center;background-color: white;padding-right: 0.2em;padding-left: 0.2em;position: relative;}#sk-container-id-1 div.sk-item {position: relative;z-index: 1;}#sk-container-id-1 div.sk-parallel {display: flex;align-items: stretch;justify-content: center;background-color: white;position: relative;}#sk-container-id-1 div.sk-item::before, #sk-container-id-1 div.sk-parallel-item::before {content: \"\";position: absolute;border-left: 1px solid gray;box-sizing: border-box;top: 0;bottom: 0;left: 50%;z-index: -1;}#sk-container-id-1 div.sk-parallel-item {display: flex;flex-direction: column;z-index: 1;position: relative;background-color: white;}#sk-container-id-1 div.sk-parallel-item:first-child::after {align-self: flex-end;width: 50%;}#sk-container-id-1 div.sk-parallel-item:last-child::after {align-self: flex-start;width: 50%;}#sk-container-id-1 div.sk-parallel-item:only-child::after {width: 0;}#sk-container-id-1 div.sk-dashed-wrapped {border: 1px dashed gray;margin: 0 0.4em 0.5em 0.4em;box-sizing: border-box;padding-bottom: 0.4em;background-color: white;}#sk-container-id-1 div.sk-label label {font-family: monospace;font-weight: bold;display: inline-block;line-height: 1.2em;}#sk-container-id-1 div.sk-label-container {text-align: center;}#sk-container-id-1 div.sk-container {/* jupyter's `normalize.less` sets `[hidden] { display: none; }` but bootstrap.min.css set `[hidden] { display: none !important; }` so we also need the `!important` here to be able to override the default hidden behavior on the sphinx rendered scikit-learn.org. See: https://github.com/scikit-learn/scikit-learn/issues/21755 */display: inline-block !important;position: relative;}#sk-container-id-1 div.sk-text-repr-fallback {display: none;}</style><div id=\"sk-container-id-1\" class=\"sk-top-container\"><div class=\"sk-text-repr-fallback\"><pre>XGBClassifier(base_score=None, booster=None, callbacks=None,\n",
       "              colsample_bylevel=None, colsample_bynode=None,\n",
       "              colsample_bytree=None, early_stopping_rounds=None,\n",
       "              enable_categorical=False, eval_metric=None, feature_types=None,\n",
       "              gamma=None, gpu_id=None, grow_policy=None, importance_type=None,\n",
       "              interaction_constraints=None, learning_rate=0.1, max_bin=None,\n",
       "              max_cat_threshold=None, max_cat_to_onehot=None,\n",
       "              max_delta_step=None, max_depth=6, max_leaves=None,\n",
       "              min_child_weight=None, missing=nan, monotone_constraints=None,\n",
       "              n_estimators=100, n_jobs=None, num_class=3,\n",
       "              num_parallel_tree=None, objective=&#x27;multi:softmax&#x27;, ...)</pre><b>In a Jupyter environment, please rerun this cell to show the HTML representation or trust the notebook. <br />On GitHub, the HTML representation is unable to render, please try loading this page with nbviewer.org.</b></div><div class=\"sk-container\" hidden><div class=\"sk-item\"><div class=\"sk-estimator sk-toggleable\"><input class=\"sk-toggleable__control sk-hidden--visually\" id=\"sk-estimator-id-1\" type=\"checkbox\" checked><label for=\"sk-estimator-id-1\" class=\"sk-toggleable__label sk-toggleable__label-arrow\">XGBClassifier</label><div class=\"sk-toggleable__content\"><pre>XGBClassifier(base_score=None, booster=None, callbacks=None,\n",
       "              colsample_bylevel=None, colsample_bynode=None,\n",
       "              colsample_bytree=None, early_stopping_rounds=None,\n",
       "              enable_categorical=False, eval_metric=None, feature_types=None,\n",
       "              gamma=None, gpu_id=None, grow_policy=None, importance_type=None,\n",
       "              interaction_constraints=None, learning_rate=0.1, max_bin=None,\n",
       "              max_cat_threshold=None, max_cat_to_onehot=None,\n",
       "              max_delta_step=None, max_depth=6, max_leaves=None,\n",
       "              min_child_weight=None, missing=nan, monotone_constraints=None,\n",
       "              n_estimators=100, n_jobs=None, num_class=3,\n",
       "              num_parallel_tree=None, objective=&#x27;multi:softmax&#x27;, ...)</pre></div></div></div></div></div>"
      ],
      "text/plain": [
       "XGBClassifier(base_score=None, booster=None, callbacks=None,\n",
       "              colsample_bylevel=None, colsample_bynode=None,\n",
       "              colsample_bytree=None, early_stopping_rounds=None,\n",
       "              enable_categorical=False, eval_metric=None, feature_types=None,\n",
       "              gamma=None, gpu_id=None, grow_policy=None, importance_type=None,\n",
       "              interaction_constraints=None, learning_rate=0.1, max_bin=None,\n",
       "              max_cat_threshold=None, max_cat_to_onehot=None,\n",
       "              max_delta_step=None, max_depth=6, max_leaves=None,\n",
       "              min_child_weight=None, missing=nan, monotone_constraints=None,\n",
       "              n_estimators=100, n_jobs=None, num_class=3,\n",
       "              num_parallel_tree=None, objective='multi:softmax', ...)"
      ]
     },
     "execution_count": 38,
     "metadata": {},
     "output_type": "execute_result"
    }
   ],
   "source": [
    "model.fit(X_train, y_train)"
   ]
  },
  {
   "cell_type": "code",
   "execution_count": 39,
   "id": "dfdf220f",
   "metadata": {},
   "outputs": [],
   "source": [
    "y_pred = model.predict(X_test)"
   ]
  },
  {
   "cell_type": "markdown",
   "id": "493ad134",
   "metadata": {},
   "source": [
    "Este modelo tiene una precisión alta para para la clase 0, de un 76%, en otras palabras la mayoria de veces predice que es funcional lo termina siendo. Pero este modelo tiene dificultades en la clase 1 (reparacion) para identificar cuando la bomba necesita reparación. Con respecto al  modelo al hacer la matriz de confusión, nos dice que el modelo tiene buen desempeño en la clasificación de \"functional \" pero no tan buen desempeño para \"functional needs repair\""
   ]
  },
  {
   "cell_type": "code",
   "execution_count": 40,
   "id": "9f92b08b",
   "metadata": {
    "scrolled": true
   },
   "outputs": [
    {
     "name": "stdout",
     "output_type": "stream",
     "text": [
      "              precision    recall  f1-score   support\n",
      "\n",
      "           0       0.75      0.92      0.83      8098\n",
      "           1       0.62      0.17      0.27      1074\n",
      "           2       0.85      0.68      0.76      5678\n",
      "\n",
      "    accuracy                           0.78     14850\n",
      "   macro avg       0.74      0.59      0.62     14850\n",
      "weighted avg       0.78      0.78      0.76     14850\n",
      "\n",
      "[[7477   80  541]\n",
      " [ 747  185  142]\n",
      " [1759   33 3886]]\n"
     ]
    }
   ],
   "source": [
    "print(classification_report(y_test, y_pred))\n",
    "print(confusion_matrix(y_test, y_pred))"
   ]
  },
  {
   "cell_type": "markdown",
   "id": "f360986b",
   "metadata": {},
   "source": [
    "El score del modelo1 usando XGB Classifier es de 77,76%"
   ]
  },
  {
   "cell_type": "code",
   "execution_count": 41,
   "id": "7ee1ad1a",
   "metadata": {},
   "outputs": [
    {
     "name": "stdout",
     "output_type": "stream",
     "text": [
      "Score del modelo: 0.7776430976430977\n"
     ]
    }
   ],
   "source": [
    "y_pred = model.predict(X_test)\n",
    "score = accuracy_score(y_test, y_pred)\n",
    "print(\"Score del modelo:\", score)"
   ]
  },
  {
   "cell_type": "code",
   "execution_count": 42,
   "id": "36e0f410",
   "metadata": {},
   "outputs": [],
   "source": [
    "envio_format = pd.read_csv(r'C:\\Users\\ezequ\\env\\SubmissionFormat.csv', index_col='id')"
   ]
  },
  {
   "cell_type": "code",
   "execution_count": 43,
   "id": "33cd0ddc",
   "metadata": {},
   "outputs": [
    {
     "data": {
      "text/html": [
       "<div>\n",
       "<style scoped>\n",
       "    .dataframe tbody tr th:only-of-type {\n",
       "        vertical-align: middle;\n",
       "    }\n",
       "\n",
       "    .dataframe tbody tr th {\n",
       "        vertical-align: top;\n",
       "    }\n",
       "\n",
       "    .dataframe thead th {\n",
       "        text-align: right;\n",
       "    }\n",
       "</style>\n",
       "<table border=\"1\" class=\"dataframe\">\n",
       "  <thead>\n",
       "    <tr style=\"text-align: right;\">\n",
       "      <th></th>\n",
       "      <th>status_group</th>\n",
       "    </tr>\n",
       "    <tr>\n",
       "      <th>id</th>\n",
       "      <th></th>\n",
       "    </tr>\n",
       "  </thead>\n",
       "  <tbody>\n",
       "    <tr>\n",
       "      <th>50785</th>\n",
       "      <td>predicted label</td>\n",
       "    </tr>\n",
       "    <tr>\n",
       "      <th>51630</th>\n",
       "      <td>predicted label</td>\n",
       "    </tr>\n",
       "    <tr>\n",
       "      <th>17168</th>\n",
       "      <td>predicted label</td>\n",
       "    </tr>\n",
       "    <tr>\n",
       "      <th>45559</th>\n",
       "      <td>predicted label</td>\n",
       "    </tr>\n",
       "    <tr>\n",
       "      <th>49871</th>\n",
       "      <td>predicted label</td>\n",
       "    </tr>\n",
       "    <tr>\n",
       "      <th>...</th>\n",
       "      <td>...</td>\n",
       "    </tr>\n",
       "    <tr>\n",
       "      <th>39307</th>\n",
       "      <td>predicted label</td>\n",
       "    </tr>\n",
       "    <tr>\n",
       "      <th>18990</th>\n",
       "      <td>predicted label</td>\n",
       "    </tr>\n",
       "    <tr>\n",
       "      <th>28749</th>\n",
       "      <td>predicted label</td>\n",
       "    </tr>\n",
       "    <tr>\n",
       "      <th>33492</th>\n",
       "      <td>predicted label</td>\n",
       "    </tr>\n",
       "    <tr>\n",
       "      <th>68707</th>\n",
       "      <td>predicted label</td>\n",
       "    </tr>\n",
       "  </tbody>\n",
       "</table>\n",
       "<p>14850 rows × 1 columns</p>\n",
       "</div>"
      ],
      "text/plain": [
       "          status_group\n",
       "id                    \n",
       "50785  predicted label\n",
       "51630  predicted label\n",
       "17168  predicted label\n",
       "45559  predicted label\n",
       "49871  predicted label\n",
       "...                ...\n",
       "39307  predicted label\n",
       "18990  predicted label\n",
       "28749  predicted label\n",
       "33492  predicted label\n",
       "68707  predicted label\n",
       "\n",
       "[14850 rows x 1 columns]"
      ]
     },
     "execution_count": 43,
     "metadata": {},
     "output_type": "execute_result"
    }
   ],
   "source": [
    "envio_format"
   ]
  },
  {
   "cell_type": "markdown",
   "id": "0dd5bc09",
   "metadata": {},
   "source": [
    "No venian en la misma fila id y status group y se intento modificar"
   ]
  },
  {
   "cell_type": "code",
   "execution_count": 44,
   "id": "e79d23de",
   "metadata": {},
   "outputs": [],
   "source": [
    "envio = pd.DataFrame({'id': envio_format.index, 'status_group': y_pred})"
   ]
  },
  {
   "cell_type": "code",
   "execution_count": 45,
   "id": "9c76c4de",
   "metadata": {},
   "outputs": [
    {
     "data": {
      "text/html": [
       "<div>\n",
       "<style scoped>\n",
       "    .dataframe tbody tr th:only-of-type {\n",
       "        vertical-align: middle;\n",
       "    }\n",
       "\n",
       "    .dataframe tbody tr th {\n",
       "        vertical-align: top;\n",
       "    }\n",
       "\n",
       "    .dataframe thead th {\n",
       "        text-align: right;\n",
       "    }\n",
       "</style>\n",
       "<table border=\"1\" class=\"dataframe\">\n",
       "  <thead>\n",
       "    <tr style=\"text-align: right;\">\n",
       "      <th></th>\n",
       "      <th>id</th>\n",
       "      <th>status_group</th>\n",
       "    </tr>\n",
       "  </thead>\n",
       "  <tbody>\n",
       "    <tr>\n",
       "      <th>0</th>\n",
       "      <td>50785</td>\n",
       "      <td>2</td>\n",
       "    </tr>\n",
       "    <tr>\n",
       "      <th>1</th>\n",
       "      <td>51630</td>\n",
       "      <td>0</td>\n",
       "    </tr>\n",
       "    <tr>\n",
       "      <th>2</th>\n",
       "      <td>17168</td>\n",
       "      <td>0</td>\n",
       "    </tr>\n",
       "    <tr>\n",
       "      <th>3</th>\n",
       "      <td>45559</td>\n",
       "      <td>2</td>\n",
       "    </tr>\n",
       "    <tr>\n",
       "      <th>4</th>\n",
       "      <td>49871</td>\n",
       "      <td>0</td>\n",
       "    </tr>\n",
       "    <tr>\n",
       "      <th>...</th>\n",
       "      <td>...</td>\n",
       "      <td>...</td>\n",
       "    </tr>\n",
       "    <tr>\n",
       "      <th>14845</th>\n",
       "      <td>39307</td>\n",
       "      <td>0</td>\n",
       "    </tr>\n",
       "    <tr>\n",
       "      <th>14846</th>\n",
       "      <td>18990</td>\n",
       "      <td>0</td>\n",
       "    </tr>\n",
       "    <tr>\n",
       "      <th>14847</th>\n",
       "      <td>28749</td>\n",
       "      <td>0</td>\n",
       "    </tr>\n",
       "    <tr>\n",
       "      <th>14848</th>\n",
       "      <td>33492</td>\n",
       "      <td>0</td>\n",
       "    </tr>\n",
       "    <tr>\n",
       "      <th>14849</th>\n",
       "      <td>68707</td>\n",
       "      <td>2</td>\n",
       "    </tr>\n",
       "  </tbody>\n",
       "</table>\n",
       "<p>14850 rows × 2 columns</p>\n",
       "</div>"
      ],
      "text/plain": [
       "          id  status_group\n",
       "0      50785             2\n",
       "1      51630             0\n",
       "2      17168             0\n",
       "3      45559             2\n",
       "4      49871             0\n",
       "...      ...           ...\n",
       "14845  39307             0\n",
       "14846  18990             0\n",
       "14847  28749             0\n",
       "14848  33492             0\n",
       "14849  68707             2\n",
       "\n",
       "[14850 rows x 2 columns]"
      ]
     },
     "execution_count": 45,
     "metadata": {},
     "output_type": "execute_result"
    }
   ],
   "source": [
    "envio"
   ]
  },
  {
   "cell_type": "markdown",
   "id": "3444894a",
   "metadata": {},
   "source": [
    "Se reemplaza los valores numéricos de status_group a valores \"funcional\", \"non functional\" y \"functional needs repair\", tambien el codigo dice cuantas bombas estan en cada grupo según el modelo estimado "
   ]
  },
  {
   "cell_type": "code",
   "execution_count": 46,
   "id": "9a32b678",
   "metadata": {},
   "outputs": [
    {
     "data": {
      "text/plain": [
       "functional                 9983\n",
       "non functional             4569\n",
       "functional needs repair     298\n",
       "Name: status_group, dtype: int64"
      ]
     },
     "execution_count": 46,
     "metadata": {},
     "output_type": "execute_result"
    }
   ],
   "source": [
    "target_status_group2 = {0:'functional', \n",
    "                   2:'non functional', \n",
    "                   1:'functional needs repair'} \n",
    "envio['status_group'] = envio['status_group'].replace(target_status_group2)\n",
    "envio['status_group'].value_counts()"
   ]
  },
  {
   "cell_type": "code",
   "execution_count": 47,
   "id": "881295c0",
   "metadata": {},
   "outputs": [],
   "source": [
    "envio.to_csv('prueba_1.csv', index=False)"
   ]
  },
  {
   "cell_type": "code",
   "execution_count": 48,
   "id": "c964b303",
   "metadata": {},
   "outputs": [],
   "source": [
    "gnb = GaussianNB()"
   ]
  },
  {
   "cell_type": "code",
   "execution_count": 49,
   "id": "1c72a189",
   "metadata": {},
   "outputs": [
    {
     "data": {
      "text/html": [
       "<style>#sk-container-id-2 {color: black;background-color: white;}#sk-container-id-2 pre{padding: 0;}#sk-container-id-2 div.sk-toggleable {background-color: white;}#sk-container-id-2 label.sk-toggleable__label {cursor: pointer;display: block;width: 100%;margin-bottom: 0;padding: 0.3em;box-sizing: border-box;text-align: center;}#sk-container-id-2 label.sk-toggleable__label-arrow:before {content: \"▸\";float: left;margin-right: 0.25em;color: #696969;}#sk-container-id-2 label.sk-toggleable__label-arrow:hover:before {color: black;}#sk-container-id-2 div.sk-estimator:hover label.sk-toggleable__label-arrow:before {color: black;}#sk-container-id-2 div.sk-toggleable__content {max-height: 0;max-width: 0;overflow: hidden;text-align: left;background-color: #f0f8ff;}#sk-container-id-2 div.sk-toggleable__content pre {margin: 0.2em;color: black;border-radius: 0.25em;background-color: #f0f8ff;}#sk-container-id-2 input.sk-toggleable__control:checked~div.sk-toggleable__content {max-height: 200px;max-width: 100%;overflow: auto;}#sk-container-id-2 input.sk-toggleable__control:checked~label.sk-toggleable__label-arrow:before {content: \"▾\";}#sk-container-id-2 div.sk-estimator input.sk-toggleable__control:checked~label.sk-toggleable__label {background-color: #d4ebff;}#sk-container-id-2 div.sk-label input.sk-toggleable__control:checked~label.sk-toggleable__label {background-color: #d4ebff;}#sk-container-id-2 input.sk-hidden--visually {border: 0;clip: rect(1px 1px 1px 1px);clip: rect(1px, 1px, 1px, 1px);height: 1px;margin: -1px;overflow: hidden;padding: 0;position: absolute;width: 1px;}#sk-container-id-2 div.sk-estimator {font-family: monospace;background-color: #f0f8ff;border: 1px dotted black;border-radius: 0.25em;box-sizing: border-box;margin-bottom: 0.5em;}#sk-container-id-2 div.sk-estimator:hover {background-color: #d4ebff;}#sk-container-id-2 div.sk-parallel-item::after {content: \"\";width: 100%;border-bottom: 1px solid gray;flex-grow: 1;}#sk-container-id-2 div.sk-label:hover label.sk-toggleable__label {background-color: #d4ebff;}#sk-container-id-2 div.sk-serial::before {content: \"\";position: absolute;border-left: 1px solid gray;box-sizing: border-box;top: 0;bottom: 0;left: 50%;z-index: 0;}#sk-container-id-2 div.sk-serial {display: flex;flex-direction: column;align-items: center;background-color: white;padding-right: 0.2em;padding-left: 0.2em;position: relative;}#sk-container-id-2 div.sk-item {position: relative;z-index: 1;}#sk-container-id-2 div.sk-parallel {display: flex;align-items: stretch;justify-content: center;background-color: white;position: relative;}#sk-container-id-2 div.sk-item::before, #sk-container-id-2 div.sk-parallel-item::before {content: \"\";position: absolute;border-left: 1px solid gray;box-sizing: border-box;top: 0;bottom: 0;left: 50%;z-index: -1;}#sk-container-id-2 div.sk-parallel-item {display: flex;flex-direction: column;z-index: 1;position: relative;background-color: white;}#sk-container-id-2 div.sk-parallel-item:first-child::after {align-self: flex-end;width: 50%;}#sk-container-id-2 div.sk-parallel-item:last-child::after {align-self: flex-start;width: 50%;}#sk-container-id-2 div.sk-parallel-item:only-child::after {width: 0;}#sk-container-id-2 div.sk-dashed-wrapped {border: 1px dashed gray;margin: 0 0.4em 0.5em 0.4em;box-sizing: border-box;padding-bottom: 0.4em;background-color: white;}#sk-container-id-2 div.sk-label label {font-family: monospace;font-weight: bold;display: inline-block;line-height: 1.2em;}#sk-container-id-2 div.sk-label-container {text-align: center;}#sk-container-id-2 div.sk-container {/* jupyter's `normalize.less` sets `[hidden] { display: none; }` but bootstrap.min.css set `[hidden] { display: none !important; }` so we also need the `!important` here to be able to override the default hidden behavior on the sphinx rendered scikit-learn.org. See: https://github.com/scikit-learn/scikit-learn/issues/21755 */display: inline-block !important;position: relative;}#sk-container-id-2 div.sk-text-repr-fallback {display: none;}</style><div id=\"sk-container-id-2\" class=\"sk-top-container\"><div class=\"sk-text-repr-fallback\"><pre>GaussianNB()</pre><b>In a Jupyter environment, please rerun this cell to show the HTML representation or trust the notebook. <br />On GitHub, the HTML representation is unable to render, please try loading this page with nbviewer.org.</b></div><div class=\"sk-container\" hidden><div class=\"sk-item\"><div class=\"sk-estimator sk-toggleable\"><input class=\"sk-toggleable__control sk-hidden--visually\" id=\"sk-estimator-id-2\" type=\"checkbox\" checked><label for=\"sk-estimator-id-2\" class=\"sk-toggleable__label sk-toggleable__label-arrow\">GaussianNB</label><div class=\"sk-toggleable__content\"><pre>GaussianNB()</pre></div></div></div></div></div>"
      ],
      "text/plain": [
       "GaussianNB()"
      ]
     },
     "execution_count": 49,
     "metadata": {},
     "output_type": "execute_result"
    }
   ],
   "source": [
    "gnb.fit(X_train, y_train)\n"
   ]
  },
  {
   "cell_type": "code",
   "execution_count": 50,
   "id": "c054856f",
   "metadata": {},
   "outputs": [],
   "source": [
    "y_pred = gnb.predict(X_test)"
   ]
  },
  {
   "cell_type": "code",
   "execution_count": 51,
   "id": "07e228e2",
   "metadata": {},
   "outputs": [
    {
     "name": "stdout",
     "output_type": "stream",
     "text": [
      "Precisión: 0.5977104377104377\n"
     ]
    }
   ],
   "source": [
    "accuracy = accuracy_score(y_test, y_pred)\n",
    "print('Precisión:', accuracy)"
   ]
  },
  {
   "cell_type": "code",
   "execution_count": 52,
   "id": "f22fea04",
   "metadata": {},
   "outputs": [
    {
     "name": "stdout",
     "output_type": "stream",
     "text": [
      "              precision    recall  f1-score   support\n",
      "\n",
      "           0       0.66      0.67      0.67      8098\n",
      "           1       0.18      0.16      0.17      1074\n",
      "           2       0.58      0.57      0.57      5678\n",
      "\n",
      "    accuracy                           0.60     14850\n",
      "   macro avg       0.47      0.47      0.47     14850\n",
      "weighted avg       0.59      0.60      0.60     14850\n",
      "\n",
      "[[5454  549 2095]\n",
      " [ 618  175  281]\n",
      " [2197  234 3247]]\n"
     ]
    }
   ],
   "source": [
    "print(classification_report(y_test, y_pred))\n",
    "print(confusion_matrix(y_test, y_pred))"
   ]
  },
  {
   "cell_type": "markdown",
   "id": "4f862e85",
   "metadata": {},
   "source": [
    "Arbol de Decisión con modelo 1"
   ]
  },
  {
   "cell_type": "code",
   "execution_count": 53,
   "id": "1123cd97",
   "metadata": {},
   "outputs": [
    {
     "data": {
      "text/html": [
       "<style>#sk-container-id-3 {color: black;background-color: white;}#sk-container-id-3 pre{padding: 0;}#sk-container-id-3 div.sk-toggleable {background-color: white;}#sk-container-id-3 label.sk-toggleable__label {cursor: pointer;display: block;width: 100%;margin-bottom: 0;padding: 0.3em;box-sizing: border-box;text-align: center;}#sk-container-id-3 label.sk-toggleable__label-arrow:before {content: \"▸\";float: left;margin-right: 0.25em;color: #696969;}#sk-container-id-3 label.sk-toggleable__label-arrow:hover:before {color: black;}#sk-container-id-3 div.sk-estimator:hover label.sk-toggleable__label-arrow:before {color: black;}#sk-container-id-3 div.sk-toggleable__content {max-height: 0;max-width: 0;overflow: hidden;text-align: left;background-color: #f0f8ff;}#sk-container-id-3 div.sk-toggleable__content pre {margin: 0.2em;color: black;border-radius: 0.25em;background-color: #f0f8ff;}#sk-container-id-3 input.sk-toggleable__control:checked~div.sk-toggleable__content {max-height: 200px;max-width: 100%;overflow: auto;}#sk-container-id-3 input.sk-toggleable__control:checked~label.sk-toggleable__label-arrow:before {content: \"▾\";}#sk-container-id-3 div.sk-estimator input.sk-toggleable__control:checked~label.sk-toggleable__label {background-color: #d4ebff;}#sk-container-id-3 div.sk-label input.sk-toggleable__control:checked~label.sk-toggleable__label {background-color: #d4ebff;}#sk-container-id-3 input.sk-hidden--visually {border: 0;clip: rect(1px 1px 1px 1px);clip: rect(1px, 1px, 1px, 1px);height: 1px;margin: -1px;overflow: hidden;padding: 0;position: absolute;width: 1px;}#sk-container-id-3 div.sk-estimator {font-family: monospace;background-color: #f0f8ff;border: 1px dotted black;border-radius: 0.25em;box-sizing: border-box;margin-bottom: 0.5em;}#sk-container-id-3 div.sk-estimator:hover {background-color: #d4ebff;}#sk-container-id-3 div.sk-parallel-item::after {content: \"\";width: 100%;border-bottom: 1px solid gray;flex-grow: 1;}#sk-container-id-3 div.sk-label:hover label.sk-toggleable__label {background-color: #d4ebff;}#sk-container-id-3 div.sk-serial::before {content: \"\";position: absolute;border-left: 1px solid gray;box-sizing: border-box;top: 0;bottom: 0;left: 50%;z-index: 0;}#sk-container-id-3 div.sk-serial {display: flex;flex-direction: column;align-items: center;background-color: white;padding-right: 0.2em;padding-left: 0.2em;position: relative;}#sk-container-id-3 div.sk-item {position: relative;z-index: 1;}#sk-container-id-3 div.sk-parallel {display: flex;align-items: stretch;justify-content: center;background-color: white;position: relative;}#sk-container-id-3 div.sk-item::before, #sk-container-id-3 div.sk-parallel-item::before {content: \"\";position: absolute;border-left: 1px solid gray;box-sizing: border-box;top: 0;bottom: 0;left: 50%;z-index: -1;}#sk-container-id-3 div.sk-parallel-item {display: flex;flex-direction: column;z-index: 1;position: relative;background-color: white;}#sk-container-id-3 div.sk-parallel-item:first-child::after {align-self: flex-end;width: 50%;}#sk-container-id-3 div.sk-parallel-item:last-child::after {align-self: flex-start;width: 50%;}#sk-container-id-3 div.sk-parallel-item:only-child::after {width: 0;}#sk-container-id-3 div.sk-dashed-wrapped {border: 1px dashed gray;margin: 0 0.4em 0.5em 0.4em;box-sizing: border-box;padding-bottom: 0.4em;background-color: white;}#sk-container-id-3 div.sk-label label {font-family: monospace;font-weight: bold;display: inline-block;line-height: 1.2em;}#sk-container-id-3 div.sk-label-container {text-align: center;}#sk-container-id-3 div.sk-container {/* jupyter's `normalize.less` sets `[hidden] { display: none; }` but bootstrap.min.css set `[hidden] { display: none !important; }` so we also need the `!important` here to be able to override the default hidden behavior on the sphinx rendered scikit-learn.org. See: https://github.com/scikit-learn/scikit-learn/issues/21755 */display: inline-block !important;position: relative;}#sk-container-id-3 div.sk-text-repr-fallback {display: none;}</style><div id=\"sk-container-id-3\" class=\"sk-top-container\"><div class=\"sk-text-repr-fallback\"><pre>DecisionTreeClassifier(criterion=&#x27;entropy&#x27;, max_depth=5)</pre><b>In a Jupyter environment, please rerun this cell to show the HTML representation or trust the notebook. <br />On GitHub, the HTML representation is unable to render, please try loading this page with nbviewer.org.</b></div><div class=\"sk-container\" hidden><div class=\"sk-item\"><div class=\"sk-estimator sk-toggleable\"><input class=\"sk-toggleable__control sk-hidden--visually\" id=\"sk-estimator-id-3\" type=\"checkbox\" checked><label for=\"sk-estimator-id-3\" class=\"sk-toggleable__label sk-toggleable__label-arrow\">DecisionTreeClassifier</label><div class=\"sk-toggleable__content\"><pre>DecisionTreeClassifier(criterion=&#x27;entropy&#x27;, max_depth=5)</pre></div></div></div></div></div>"
      ],
      "text/plain": [
       "DecisionTreeClassifier(criterion='entropy', max_depth=5)"
      ]
     },
     "execution_count": 53,
     "metadata": {},
     "output_type": "execute_result"
    }
   ],
   "source": [
    "arbol = DecisionTreeClassifier(criterion='entropy', max_depth=5).fit(X_train, y_train)\n",
    "arbol"
   ]
  },
  {
   "cell_type": "code",
   "execution_count": 54,
   "id": "f46e4f52",
   "metadata": {},
   "outputs": [],
   "source": [
    "ypred_arbol= arbol.predict(X_test)"
   ]
  },
  {
   "cell_type": "code",
   "execution_count": 55,
   "id": "471dbd27",
   "metadata": {},
   "outputs": [
    {
     "name": "stdout",
     "output_type": "stream",
     "text": [
      "Train set Accuracy:  0.7069809203142536\n",
      "Test set Accuracy:  0.7081481481481482\n"
     ]
    }
   ],
   "source": [
    "print('Train set Accuracy: ', metrics.accuracy_score(y_train, arbol.predict(X_train)))\n",
    "print('Test set Accuracy: ', metrics.accuracy_score(y_test, ypred_arbol))"
   ]
  },
  {
   "cell_type": "markdown",
   "id": "d080c352",
   "metadata": {},
   "source": [
    "El reporte de clasificación muestra que el modelo tiene alta precision para \"functional\" y \"non functional\" pero es baja su performance para \"needs perair\". El problema es el recall de la clase 1, donde el modelo sólo pudo identificar 1% de los casos reales."
   ]
  },
  {
   "cell_type": "code",
   "execution_count": 56,
   "id": "065461d5",
   "metadata": {},
   "outputs": [
    {
     "name": "stdout",
     "output_type": "stream",
     "text": [
      "              precision    recall  f1-score   support\n",
      "\n",
      "           0       0.68      0.92      0.78      8098\n",
      "           1       0.62      0.01      0.01      1074\n",
      "           2       0.79      0.54      0.65      5678\n",
      "\n",
      "    accuracy                           0.71     14850\n",
      "   macro avg       0.70      0.49      0.48     14850\n",
      "weighted avg       0.72      0.71      0.67     14850\n",
      "\n"
     ]
    }
   ],
   "source": [
    "print(classification_report(y_test, ypred_arbol))"
   ]
  },
  {
   "cell_type": "code",
   "execution_count": 57,
   "id": "d0d45846",
   "metadata": {},
   "outputs": [],
   "source": [
    "envio_format1= pd.read_csv(r'C:\\Users\\ezequ\\env\\SubmissionFormat.csv', index_col='id')"
   ]
  },
  {
   "cell_type": "code",
   "execution_count": 58,
   "id": "f324d439",
   "metadata": {},
   "outputs": [],
   "source": [
    "envio_arbol = pd.DataFrame({'id': envio_format.index, 'status_group': ypred_arbol})"
   ]
  },
  {
   "cell_type": "code",
   "execution_count": 59,
   "id": "1824cbd0",
   "metadata": {},
   "outputs": [
    {
     "data": {
      "text/plain": [
       "functional                 10949\n",
       "non functional              3888\n",
       "functional needs repair       13\n",
       "Name: status_group, dtype: int64"
      ]
     },
     "execution_count": 59,
     "metadata": {},
     "output_type": "execute_result"
    }
   ],
   "source": [
    "target_status_arbol = {0:'functional', \n",
    "                   2:'non functional', \n",
    "                   1:'functional needs repair'} \n",
    "envio_arbol['status_group'] = envio_arbol['status_group'].replace(target_status_arbol)\n",
    "envio_arbol['status_group'].value_counts()"
   ]
  },
  {
   "cell_type": "code",
   "execution_count": 60,
   "id": "fbcf4620",
   "metadata": {},
   "outputs": [],
   "source": [
    "envio_arbol.to_csv('prueba_arbol1.csv', index=False)"
   ]
  },
  {
   "cell_type": "code",
   "execution_count": 61,
   "id": "ae037268",
   "metadata": {},
   "outputs": [],
   "source": [
    "gbm = GradientBoostingClassifier(n_estimators=100, learning_rate=0.1, max_depth=3, random_state=42)"
   ]
  },
  {
   "cell_type": "code",
   "execution_count": 62,
   "id": "35b95e58",
   "metadata": {},
   "outputs": [
    {
     "data": {
      "text/html": [
       "<style>#sk-container-id-4 {color: black;background-color: white;}#sk-container-id-4 pre{padding: 0;}#sk-container-id-4 div.sk-toggleable {background-color: white;}#sk-container-id-4 label.sk-toggleable__label {cursor: pointer;display: block;width: 100%;margin-bottom: 0;padding: 0.3em;box-sizing: border-box;text-align: center;}#sk-container-id-4 label.sk-toggleable__label-arrow:before {content: \"▸\";float: left;margin-right: 0.25em;color: #696969;}#sk-container-id-4 label.sk-toggleable__label-arrow:hover:before {color: black;}#sk-container-id-4 div.sk-estimator:hover label.sk-toggleable__label-arrow:before {color: black;}#sk-container-id-4 div.sk-toggleable__content {max-height: 0;max-width: 0;overflow: hidden;text-align: left;background-color: #f0f8ff;}#sk-container-id-4 div.sk-toggleable__content pre {margin: 0.2em;color: black;border-radius: 0.25em;background-color: #f0f8ff;}#sk-container-id-4 input.sk-toggleable__control:checked~div.sk-toggleable__content {max-height: 200px;max-width: 100%;overflow: auto;}#sk-container-id-4 input.sk-toggleable__control:checked~label.sk-toggleable__label-arrow:before {content: \"▾\";}#sk-container-id-4 div.sk-estimator input.sk-toggleable__control:checked~label.sk-toggleable__label {background-color: #d4ebff;}#sk-container-id-4 div.sk-label input.sk-toggleable__control:checked~label.sk-toggleable__label {background-color: #d4ebff;}#sk-container-id-4 input.sk-hidden--visually {border: 0;clip: rect(1px 1px 1px 1px);clip: rect(1px, 1px, 1px, 1px);height: 1px;margin: -1px;overflow: hidden;padding: 0;position: absolute;width: 1px;}#sk-container-id-4 div.sk-estimator {font-family: monospace;background-color: #f0f8ff;border: 1px dotted black;border-radius: 0.25em;box-sizing: border-box;margin-bottom: 0.5em;}#sk-container-id-4 div.sk-estimator:hover {background-color: #d4ebff;}#sk-container-id-4 div.sk-parallel-item::after {content: \"\";width: 100%;border-bottom: 1px solid gray;flex-grow: 1;}#sk-container-id-4 div.sk-label:hover label.sk-toggleable__label {background-color: #d4ebff;}#sk-container-id-4 div.sk-serial::before {content: \"\";position: absolute;border-left: 1px solid gray;box-sizing: border-box;top: 0;bottom: 0;left: 50%;z-index: 0;}#sk-container-id-4 div.sk-serial {display: flex;flex-direction: column;align-items: center;background-color: white;padding-right: 0.2em;padding-left: 0.2em;position: relative;}#sk-container-id-4 div.sk-item {position: relative;z-index: 1;}#sk-container-id-4 div.sk-parallel {display: flex;align-items: stretch;justify-content: center;background-color: white;position: relative;}#sk-container-id-4 div.sk-item::before, #sk-container-id-4 div.sk-parallel-item::before {content: \"\";position: absolute;border-left: 1px solid gray;box-sizing: border-box;top: 0;bottom: 0;left: 50%;z-index: -1;}#sk-container-id-4 div.sk-parallel-item {display: flex;flex-direction: column;z-index: 1;position: relative;background-color: white;}#sk-container-id-4 div.sk-parallel-item:first-child::after {align-self: flex-end;width: 50%;}#sk-container-id-4 div.sk-parallel-item:last-child::after {align-self: flex-start;width: 50%;}#sk-container-id-4 div.sk-parallel-item:only-child::after {width: 0;}#sk-container-id-4 div.sk-dashed-wrapped {border: 1px dashed gray;margin: 0 0.4em 0.5em 0.4em;box-sizing: border-box;padding-bottom: 0.4em;background-color: white;}#sk-container-id-4 div.sk-label label {font-family: monospace;font-weight: bold;display: inline-block;line-height: 1.2em;}#sk-container-id-4 div.sk-label-container {text-align: center;}#sk-container-id-4 div.sk-container {/* jupyter's `normalize.less` sets `[hidden] { display: none; }` but bootstrap.min.css set `[hidden] { display: none !important; }` so we also need the `!important` here to be able to override the default hidden behavior on the sphinx rendered scikit-learn.org. See: https://github.com/scikit-learn/scikit-learn/issues/21755 */display: inline-block !important;position: relative;}#sk-container-id-4 div.sk-text-repr-fallback {display: none;}</style><div id=\"sk-container-id-4\" class=\"sk-top-container\"><div class=\"sk-text-repr-fallback\"><pre>GradientBoostingClassifier(random_state=42)</pre><b>In a Jupyter environment, please rerun this cell to show the HTML representation or trust the notebook. <br />On GitHub, the HTML representation is unable to render, please try loading this page with nbviewer.org.</b></div><div class=\"sk-container\" hidden><div class=\"sk-item\"><div class=\"sk-estimator sk-toggleable\"><input class=\"sk-toggleable__control sk-hidden--visually\" id=\"sk-estimator-id-4\" type=\"checkbox\" checked><label for=\"sk-estimator-id-4\" class=\"sk-toggleable__label sk-toggleable__label-arrow\">GradientBoostingClassifier</label><div class=\"sk-toggleable__content\"><pre>GradientBoostingClassifier(random_state=42)</pre></div></div></div></div></div>"
      ],
      "text/plain": [
       "GradientBoostingClassifier(random_state=42)"
      ]
     },
     "execution_count": 62,
     "metadata": {},
     "output_type": "execute_result"
    }
   ],
   "source": [
    "gbm.fit(X_train, y_train)"
   ]
  },
  {
   "cell_type": "code",
   "execution_count": 63,
   "id": "7ddc91d9",
   "metadata": {},
   "outputs": [],
   "source": [
    "y_predgbm = gbm.predict(X_test)"
   ]
  },
  {
   "cell_type": "code",
   "execution_count": 64,
   "id": "911e38a5",
   "metadata": {},
   "outputs": [
    {
     "name": "stdout",
     "output_type": "stream",
     "text": [
      "Accuracy: 0.7472053872053872\n"
     ]
    }
   ],
   "source": [
    "y_predgmb = gbm.predict(X_test)\n",
    "accuracy = accuracy_score(y_test, y_predgbm)\n",
    "print('Accuracy:', accuracy)"
   ]
  },
  {
   "cell_type": "code",
   "execution_count": 67,
   "id": "32b72ebd",
   "metadata": {},
   "outputs": [
    {
     "name": "stdout",
     "output_type": "stream",
     "text": [
      "              precision    recall  f1-score   support\n",
      "\n",
      "           0       0.72      0.92      0.81      8098\n",
      "           1       0.55      0.12      0.20      1074\n",
      "           2       0.83      0.62      0.71      5678\n",
      "\n",
      "    accuracy                           0.75     14850\n",
      "   macro avg       0.70      0.55      0.57     14850\n",
      "weighted avg       0.75      0.75      0.73     14850\n",
      "\n"
     ]
    }
   ],
   "source": [
    "print(classification_report(y_test, y_predgbm))"
   ]
  },
  {
   "cell_type": "code",
   "execution_count": 68,
   "id": "3048f077",
   "metadata": {},
   "outputs": [],
   "source": [
    "envio_formatgbm= pd.read_csv(r'C:\\Users\\ezequ\\env\\SubmissionFormat.csv', index_col='id')"
   ]
  },
  {
   "cell_type": "code",
   "execution_count": 69,
   "id": "038afde0",
   "metadata": {},
   "outputs": [],
   "source": [
    "envio_gbm = pd.DataFrame({'id': envio_format.index, 'status_group': y_predgbm})"
   ]
  },
  {
   "cell_type": "code",
   "execution_count": 70,
   "id": "a52fcc83",
   "metadata": {},
   "outputs": [
    {
     "data": {
      "text/plain": [
       "functional                 10342\n",
       "non functional              4273\n",
       "functional needs repair      235\n",
       "Name: status_group, dtype: int64"
      ]
     },
     "execution_count": 70,
     "metadata": {},
     "output_type": "execute_result"
    }
   ],
   "source": [
    "target_status_gbm = {0:'functional', \n",
    "                   2:'non functional', \n",
    "                   1:'functional needs repair'} \n",
    "envio_gbm['status_group'] = envio_gbm['status_group'].replace(target_status_gbm)\n",
    "envio_gbm['status_group'].value_counts()"
   ]
  },
  {
   "cell_type": "code",
   "execution_count": 71,
   "id": "03eaac99",
   "metadata": {},
   "outputs": [],
   "source": [
    "envio_gbm.to_csv('prueba_gbm.csv', index=False)"
   ]
  },
  {
   "cell_type": "code",
   "execution_count": 72,
   "id": "d5e7270e",
   "metadata": {},
   "outputs": [],
   "source": [
    "RandomF_Cross = RandomForestClassifier(criterion='entropy', max_depth=None).fit(X_train, y_train)"
   ]
  },
  {
   "cell_type": "code",
   "execution_count": 73,
   "id": "39da65ba",
   "metadata": {},
   "outputs": [],
   "source": [
    "rfc_params = {'n_estimators':[10, 50, 100],\n",
    "              'max_depth':[10, 20, None],\n",
    "              'min_samples_split':[2, 15]}\n",
    "\n",
    "\n",
    "grid_rfc = GridSearchCV(RandomForestClassifier(), \n",
    "                        rfc_params, \n",
    "                        cv=5, \n",
    "                        scoring='accuracy').fit(X_train, y_train)"
   ]
  },
  {
   "cell_type": "code",
   "execution_count": 74,
   "id": "3f8c64ea",
   "metadata": {},
   "outputs": [],
   "source": [
    "ypredrf = grid_rfc.predict(X_test)"
   ]
  },
  {
   "cell_type": "markdown",
   "id": "144c14e8",
   "metadata": {},
   "source": [
    "El modelo tiene buena precisión para el modelo functional y non fuctional pero un poco baja para functional needs repair."
   ]
  },
  {
   "cell_type": "code",
   "execution_count": 75,
   "id": "76ba2187",
   "metadata": {},
   "outputs": [
    {
     "name": "stdout",
     "output_type": "stream",
     "text": [
      "[[7236  199  663]\n",
      " [ 567  365  142]\n",
      " [1184   97 4397]]\n",
      "              precision    recall  f1-score   support\n",
      "\n",
      "           0       0.81      0.89      0.85      8098\n",
      "           1       0.55      0.34      0.42      1074\n",
      "           2       0.85      0.77      0.81      5678\n",
      "\n",
      "    accuracy                           0.81     14850\n",
      "   macro avg       0.73      0.67      0.69     14850\n",
      "weighted avg       0.80      0.81      0.80     14850\n",
      "\n"
     ]
    }
   ],
   "source": [
    "print(confusion_matrix(y_test, ypredrf))\n",
    "print(classification_report(y_test, ypredrf))"
   ]
  },
  {
   "cell_type": "code",
   "execution_count": 76,
   "id": "f956a566",
   "metadata": {},
   "outputs": [],
   "source": [
    "envio_format_rf= pd.read_csv(r'C:\\Users\\ezequ\\env\\SubmissionFormat.csv', index_col='id')"
   ]
  },
  {
   "cell_type": "code",
   "execution_count": 77,
   "id": "e160e825",
   "metadata": {},
   "outputs": [],
   "source": [
    "envio_rf = pd.DataFrame({'id': envio_format.index, 'status_group': ypredrf})"
   ]
  },
  {
   "cell_type": "markdown",
   "id": "cf0d7b64",
   "metadata": {},
   "source": [
    "Luego de juntar la columna id con status group se pasan los valores a string para su posterior análisis."
   ]
  },
  {
   "cell_type": "code",
   "execution_count": 78,
   "id": "dbdf8781",
   "metadata": {},
   "outputs": [
    {
     "data": {
      "text/plain": [
       "functional                 8987\n",
       "non functional             5202\n",
       "functional needs repair     661\n",
       "Name: status_group, dtype: int64"
      ]
     },
     "execution_count": 78,
     "metadata": {},
     "output_type": "execute_result"
    }
   ],
   "source": [
    "target_status_rf = {0:'functional', \n",
    "                   2:'non functional', \n",
    "                   1:'functional needs repair'} \n",
    "envio_rf['status_group'] = envio_rf['status_group'].replace(target_status_rf)\n",
    "envio_rf['status_group'].value_counts()"
   ]
  },
  {
   "cell_type": "code",
   "execution_count": 79,
   "id": "6495155b",
   "metadata": {},
   "outputs": [],
   "source": [
    "envio_rf.to_csv('RandomF_Cross.csv', index=False)"
   ]
  },
  {
   "cell_type": "markdown",
   "id": "a9262277",
   "metadata": {},
   "source": [
    "# Modelo2"
   ]
  },
  {
   "cell_type": "code",
   "execution_count": 80,
   "id": "73e382c1",
   "metadata": {},
   "outputs": [],
   "source": [
    "train1 = pd.read_csv('C:\\\\Users\\\\ezequ\\\\env\\\\train_set_values.csv')\n",
    "etiqueta1=pd.read_csv('C:\\\\Users\\\\ezequ\\\\env\\\\training_set_labels.csv')"
   ]
  },
  {
   "cell_type": "code",
   "execution_count": 81,
   "id": "6e4f73e6",
   "metadata": {},
   "outputs": [],
   "source": [
    "train1 = train1.merge(etiqueta1, on = \"id\", how = \"inner\")"
   ]
  },
  {
   "cell_type": "code",
   "execution_count": 82,
   "id": "3fe731bf",
   "metadata": {},
   "outputs": [],
   "source": [
    "var_obj = {'functional':0, \n",
    "                   'non functional': 2, \n",
    "                   'functional needs repair': 1} \n",
    "train1['status_group'] = etiqueta1['status_group'].replace(var_obj)"
   ]
  },
  {
   "cell_type": "markdown",
   "id": "722aa44f",
   "metadata": {},
   "source": [
    "Se cuenta el número de valores nulos o faltantes de cada variable"
   ]
  },
  {
   "cell_type": "code",
   "execution_count": 83,
   "id": "52e038c4",
   "metadata": {},
   "outputs": [
    {
     "data": {
      "text/plain": [
       "id                           0\n",
       "amount_tsh                   0\n",
       "date_recorded                0\n",
       "funder                    3635\n",
       "gps_height                   0\n",
       "installer                 3655\n",
       "longitude                    0\n",
       "latitude                     0\n",
       "wpt_name                     0\n",
       "num_private                  0\n",
       "basin                        0\n",
       "subvillage                 371\n",
       "region                       0\n",
       "region_code                  0\n",
       "district_code                0\n",
       "lga                          0\n",
       "ward                         0\n",
       "population                   0\n",
       "public_meeting            3334\n",
       "recorded_by                  0\n",
       "scheme_management         3877\n",
       "scheme_name              28166\n",
       "permit                    3056\n",
       "construction_year            0\n",
       "extraction_type              0\n",
       "extraction_type_group        0\n",
       "extraction_type_class        0\n",
       "management                   0\n",
       "management_group             0\n",
       "payment                      0\n",
       "payment_type                 0\n",
       "water_quality                0\n",
       "quality_group                0\n",
       "quantity                     0\n",
       "quantity_group               0\n",
       "source                       0\n",
       "source_type                  0\n",
       "source_class                 0\n",
       "waterpoint_type              0\n",
       "waterpoint_type_group        0\n",
       "status_group                 0\n",
       "dtype: int64"
      ]
     },
     "execution_count": 83,
     "metadata": {},
     "output_type": "execute_result"
    }
   ],
   "source": [
    "train1.apply(lambda x : sum(x.isnull()), axis = 0)"
   ]
  },
  {
   "cell_type": "markdown",
   "id": "69a0b88b",
   "metadata": {},
   "source": [
    "En vez de aplicar la moda como en el modelo 1, para solucionar valores nulos se va a eliminar las filas de las variables previamente utilizadas"
   ]
  },
  {
   "cell_type": "code",
   "execution_count": 84,
   "id": "05d94296",
   "metadata": {},
   "outputs": [],
   "source": [
    "train1.dropna(subset=['funder', 'installer', 'scheme_management', 'permit', 'public_meeting'], inplace=True)"
   ]
  },
  {
   "cell_type": "markdown",
   "id": "39d7f5f7",
   "metadata": {},
   "source": [
    "Se pasa date_recorded a formato datetime"
   ]
  },
  {
   "cell_type": "code",
   "execution_count": 85,
   "id": "d0bc1cf0",
   "metadata": {},
   "outputs": [],
   "source": [
    "train1.date_recorded = pd.to_datetime(train1.date_recorded)"
   ]
  },
  {
   "cell_type": "code",
   "execution_count": 86,
   "id": "32c73baa",
   "metadata": {},
   "outputs": [
    {
     "name": "stdout",
     "output_type": "stream",
     "text": [
      "id                                int64\n",
      "amount_tsh                      float64\n",
      "date_recorded            datetime64[ns]\n",
      "funder                           object\n",
      "gps_height                        int64\n",
      "installer                        object\n",
      "longitude                       float64\n",
      "latitude                        float64\n",
      "wpt_name                         object\n",
      "num_private                       int64\n",
      "basin                            object\n",
      "subvillage                       object\n",
      "region                           object\n",
      "region_code                       int64\n",
      "district_code                     int64\n",
      "lga                              object\n",
      "ward                             object\n",
      "population                        int64\n",
      "public_meeting                   object\n",
      "recorded_by                      object\n",
      "scheme_management                object\n",
      "scheme_name                      object\n",
      "permit                           object\n",
      "construction_year                 int64\n",
      "extraction_type                  object\n",
      "extraction_type_group            object\n",
      "extraction_type_class            object\n",
      "management                       object\n",
      "management_group                 object\n",
      "payment                          object\n",
      "payment_type                     object\n",
      "water_quality                    object\n",
      "quality_group                    object\n",
      "quantity                         object\n",
      "quantity_group                   object\n",
      "source                           object\n",
      "source_type                      object\n",
      "source_class                     object\n",
      "waterpoint_type                  object\n",
      "waterpoint_type_group            object\n",
      "status_group                      int64\n",
      "dtype: object\n"
     ]
    }
   ],
   "source": [
    "print(train1.dtypes)"
   ]
  },
  {
   "cell_type": "markdown",
   "id": "69270c8e",
   "metadata": {},
   "source": [
    "Se convierte la columna \"date_recorded\" en valores de fecha y hora de formato datetime para poder realizar cálculos de fechas y horas"
   ]
  },
  {
   "cell_type": "code",
   "execution_count": 87,
   "id": "a636d471",
   "metadata": {},
   "outputs": [],
   "source": [
    "train1['date_recorded'] = pd.to_datetime(train1['date_recorded'])"
   ]
  },
  {
   "cell_type": "markdown",
   "id": "670c4442",
   "metadata": {},
   "source": [
    "Se calcula la cantidad de días transcurridos "
   ]
  },
  {
   "cell_type": "code",
   "execution_count": 88,
   "id": "d425a651",
   "metadata": {},
   "outputs": [],
   "source": [
    "most_recent_date = train1['date_recorded'].max()"
   ]
  },
  {
   "cell_type": "markdown",
   "id": "f9b064a3",
   "metadata": {},
   "source": [
    "Se calcula la cantidad de días transcurridos entre cada fecha en la columna \"date_recorded\" del dataframe train1 y la fecha más reciente en esa misma columna"
   ]
  },
  {
   "cell_type": "code",
   "execution_count": 89,
   "id": "94a019ae",
   "metadata": {},
   "outputs": [],
   "source": [
    "train1['días transcurridos'] = (most_recent_date - train1['date_recorded']).dt.days"
   ]
  },
  {
   "cell_type": "markdown",
   "id": "878c273c",
   "metadata": {},
   "source": [
    "Se elimina date_recorded y las mismas variables que en el modelo 1"
   ]
  },
  {
   "cell_type": "code",
   "execution_count": 90,
   "id": "d02633eb",
   "metadata": {},
   "outputs": [],
   "source": [
    "train1 = train1.drop(\"date_recorded\",axis=1)"
   ]
  },
  {
   "cell_type": "code",
   "execution_count": 91,
   "id": "a9fcaef5",
   "metadata": {},
   "outputs": [],
   "source": [
    "train1= train1.drop(['waterpoint_type','quantity_group'], axis=1)"
   ]
  },
  {
   "cell_type": "code",
   "execution_count": 92,
   "id": "2b14f2fb",
   "metadata": {},
   "outputs": [],
   "source": [
    "number = preprocessing.LabelEncoder()\n",
    "train1 = train1.astype(str)\n",
    "train1 = train1.apply(number.fit_transform)"
   ]
  },
  {
   "cell_type": "code",
   "execution_count": 93,
   "id": "ae3d433c",
   "metadata": {},
   "outputs": [],
   "source": [
    "test1= pd.read_csv('C:\\\\Users\\\\ezequ\\\\env\\\\test_set_values.csv')"
   ]
  },
  {
   "cell_type": "markdown",
   "id": "d204e4ad",
   "metadata": {},
   "source": [
    "Se procede hacer los mismos pasos que en train1 pero para test1"
   ]
  },
  {
   "cell_type": "code",
   "execution_count": 94,
   "id": "1e6a56f7",
   "metadata": {},
   "outputs": [],
   "source": [
    "test1.dropna(subset=['funder', 'installer', 'scheme_management', 'permit', 'public_meeting'], inplace=True)"
   ]
  },
  {
   "cell_type": "markdown",
   "id": "0d3e832f",
   "metadata": {},
   "source": [
    "Se convierte date_recorded a formato datetime"
   ]
  },
  {
   "cell_type": "code",
   "execution_count": 95,
   "id": "fdeb7b72",
   "metadata": {},
   "outputs": [],
   "source": [
    "test1.date_recorded = pd.to_datetime(test1.date_recorded)"
   ]
  },
  {
   "cell_type": "code",
   "execution_count": 96,
   "id": "9df115c0",
   "metadata": {},
   "outputs": [],
   "source": [
    "test1['date_recorded'] = pd.to_datetime(test1['date_recorded'])"
   ]
  },
  {
   "cell_type": "code",
   "execution_count": 97,
   "id": "01f1f2ca",
   "metadata": {},
   "outputs": [
    {
     "name": "stdout",
     "output_type": "stream",
     "text": [
      "datetime64[ns]\n"
     ]
    }
   ],
   "source": [
    "print(test1['date_recorded'].dtypes)"
   ]
  },
  {
   "cell_type": "code",
   "execution_count": 98,
   "id": "175e7d5b",
   "metadata": {},
   "outputs": [],
   "source": [
    "test1['date_recorded'] = pd.to_datetime(test1['date_recorded'])"
   ]
  },
  {
   "cell_type": "code",
   "execution_count": 99,
   "id": "271404d3",
   "metadata": {},
   "outputs": [],
   "source": [
    "most_recent_date = test1['date_recorded'].max()"
   ]
  },
  {
   "cell_type": "code",
   "execution_count": 100,
   "id": "e2f0e5d5",
   "metadata": {},
   "outputs": [],
   "source": [
    "test1['días transcurridos'] = (most_recent_date - test1['date_recorded']).dt.days"
   ]
  },
  {
   "cell_type": "code",
   "execution_count": 101,
   "id": "ab641022",
   "metadata": {},
   "outputs": [],
   "source": [
    "test1 = test1.drop(\"date_recorded\",axis=1)"
   ]
  },
  {
   "cell_type": "code",
   "execution_count": 102,
   "id": "aa5e4312",
   "metadata": {},
   "outputs": [],
   "source": [
    "test1= test1.drop(['waterpoint_type','quantity_group'], axis=1)"
   ]
  },
  {
   "cell_type": "code",
   "execution_count": 103,
   "id": "3d24a234",
   "metadata": {},
   "outputs": [],
   "source": [
    "number = preprocessing.LabelEncoder()\n",
    "test1 = test1.astype(str)\n",
    "test1 = test1.apply(number.fit_transform)"
   ]
  },
  {
   "cell_type": "code",
   "execution_count": 104,
   "id": "d92ee03a",
   "metadata": {},
   "outputs": [],
   "source": [
    "X = train1.drop('status_group', axis=1)\n",
    "y = train1['status_group']"
   ]
  },
  {
   "cell_type": "markdown",
   "id": "d1c3cbb9",
   "metadata": {},
   "source": [
    "Se tuvo que ajustar el test_size para que coincidiera el y_pred1 con submission1 y al final quedo en test_size en 0.30522"
   ]
  },
  {
   "cell_type": "code",
   "execution_count": 105,
   "id": "12ab8929",
   "metadata": {},
   "outputs": [],
   "source": [
    "X_train1, X_test1, y_train1, y_test1 = train_test_split(X, y, test_size=0.30522, random_state=40)"
   ]
  },
  {
   "cell_type": "code",
   "execution_count": 106,
   "id": "2d1f9a25",
   "metadata": {},
   "outputs": [
    {
     "data": {
      "text/html": [
       "<style>#sk-container-id-5 {color: black;background-color: white;}#sk-container-id-5 pre{padding: 0;}#sk-container-id-5 div.sk-toggleable {background-color: white;}#sk-container-id-5 label.sk-toggleable__label {cursor: pointer;display: block;width: 100%;margin-bottom: 0;padding: 0.3em;box-sizing: border-box;text-align: center;}#sk-container-id-5 label.sk-toggleable__label-arrow:before {content: \"▸\";float: left;margin-right: 0.25em;color: #696969;}#sk-container-id-5 label.sk-toggleable__label-arrow:hover:before {color: black;}#sk-container-id-5 div.sk-estimator:hover label.sk-toggleable__label-arrow:before {color: black;}#sk-container-id-5 div.sk-toggleable__content {max-height: 0;max-width: 0;overflow: hidden;text-align: left;background-color: #f0f8ff;}#sk-container-id-5 div.sk-toggleable__content pre {margin: 0.2em;color: black;border-radius: 0.25em;background-color: #f0f8ff;}#sk-container-id-5 input.sk-toggleable__control:checked~div.sk-toggleable__content {max-height: 200px;max-width: 100%;overflow: auto;}#sk-container-id-5 input.sk-toggleable__control:checked~label.sk-toggleable__label-arrow:before {content: \"▾\";}#sk-container-id-5 div.sk-estimator input.sk-toggleable__control:checked~label.sk-toggleable__label {background-color: #d4ebff;}#sk-container-id-5 div.sk-label input.sk-toggleable__control:checked~label.sk-toggleable__label {background-color: #d4ebff;}#sk-container-id-5 input.sk-hidden--visually {border: 0;clip: rect(1px 1px 1px 1px);clip: rect(1px, 1px, 1px, 1px);height: 1px;margin: -1px;overflow: hidden;padding: 0;position: absolute;width: 1px;}#sk-container-id-5 div.sk-estimator {font-family: monospace;background-color: #f0f8ff;border: 1px dotted black;border-radius: 0.25em;box-sizing: border-box;margin-bottom: 0.5em;}#sk-container-id-5 div.sk-estimator:hover {background-color: #d4ebff;}#sk-container-id-5 div.sk-parallel-item::after {content: \"\";width: 100%;border-bottom: 1px solid gray;flex-grow: 1;}#sk-container-id-5 div.sk-label:hover label.sk-toggleable__label {background-color: #d4ebff;}#sk-container-id-5 div.sk-serial::before {content: \"\";position: absolute;border-left: 1px solid gray;box-sizing: border-box;top: 0;bottom: 0;left: 50%;z-index: 0;}#sk-container-id-5 div.sk-serial {display: flex;flex-direction: column;align-items: center;background-color: white;padding-right: 0.2em;padding-left: 0.2em;position: relative;}#sk-container-id-5 div.sk-item {position: relative;z-index: 1;}#sk-container-id-5 div.sk-parallel {display: flex;align-items: stretch;justify-content: center;background-color: white;position: relative;}#sk-container-id-5 div.sk-item::before, #sk-container-id-5 div.sk-parallel-item::before {content: \"\";position: absolute;border-left: 1px solid gray;box-sizing: border-box;top: 0;bottom: 0;left: 50%;z-index: -1;}#sk-container-id-5 div.sk-parallel-item {display: flex;flex-direction: column;z-index: 1;position: relative;background-color: white;}#sk-container-id-5 div.sk-parallel-item:first-child::after {align-self: flex-end;width: 50%;}#sk-container-id-5 div.sk-parallel-item:last-child::after {align-self: flex-start;width: 50%;}#sk-container-id-5 div.sk-parallel-item:only-child::after {width: 0;}#sk-container-id-5 div.sk-dashed-wrapped {border: 1px dashed gray;margin: 0 0.4em 0.5em 0.4em;box-sizing: border-box;padding-bottom: 0.4em;background-color: white;}#sk-container-id-5 div.sk-label label {font-family: monospace;font-weight: bold;display: inline-block;line-height: 1.2em;}#sk-container-id-5 div.sk-label-container {text-align: center;}#sk-container-id-5 div.sk-container {/* jupyter's `normalize.less` sets `[hidden] { display: none; }` but bootstrap.min.css set `[hidden] { display: none !important; }` so we also need the `!important` here to be able to override the default hidden behavior on the sphinx rendered scikit-learn.org. See: https://github.com/scikit-learn/scikit-learn/issues/21755 */display: inline-block !important;position: relative;}#sk-container-id-5 div.sk-text-repr-fallback {display: none;}</style><div id=\"sk-container-id-5\" class=\"sk-top-container\"><div class=\"sk-text-repr-fallback\"><pre>RandomForestClassifier(random_state=40)</pre><b>In a Jupyter environment, please rerun this cell to show the HTML representation or trust the notebook. <br />On GitHub, the HTML representation is unable to render, please try loading this page with nbviewer.org.</b></div><div class=\"sk-container\" hidden><div class=\"sk-item\"><div class=\"sk-estimator sk-toggleable\"><input class=\"sk-toggleable__control sk-hidden--visually\" id=\"sk-estimator-id-5\" type=\"checkbox\" checked><label for=\"sk-estimator-id-5\" class=\"sk-toggleable__label sk-toggleable__label-arrow\">RandomForestClassifier</label><div class=\"sk-toggleable__content\"><pre>RandomForestClassifier(random_state=40)</pre></div></div></div></div></div>"
      ],
      "text/plain": [
       "RandomForestClassifier(random_state=40)"
      ]
     },
     "execution_count": 106,
     "metadata": {},
     "output_type": "execute_result"
    }
   ],
   "source": [
    "random_forest = RandomForestClassifier(n_estimators=100, random_state=40)\n",
    "random_forest.fit(X_train1, y_train1)"
   ]
  },
  {
   "cell_type": "code",
   "execution_count": 107,
   "id": "aba31430",
   "metadata": {},
   "outputs": [],
   "source": [
    "y_pred1 = random_forest.predict(X_test1)"
   ]
  },
  {
   "cell_type": "markdown",
   "id": "39828f4b",
   "metadata": {},
   "source": [
    "la precisión de este modelo es de 81,13%"
   ]
  },
  {
   "cell_type": "code",
   "execution_count": 108,
   "id": "2b86e5bf",
   "metadata": {},
   "outputs": [
    {
     "name": "stdout",
     "output_type": "stream",
     "text": [
      "0.8131313131313131\n"
     ]
    }
   ],
   "source": [
    "acc_random_forest = accuracy_score(y_test1, y_pred1)\n",
    "print(acc_random_forest)"
   ]
  },
  {
   "cell_type": "markdown",
   "id": "75176979",
   "metadata": {},
   "source": [
    "En general el modelo predice bien aunque con algunos problemas para functional needs repair "
   ]
  },
  {
   "cell_type": "code",
   "execution_count": 109,
   "id": "780adea1",
   "metadata": {},
   "outputs": [
    {
     "name": "stdout",
     "output_type": "stream",
     "text": [
      "              precision    recall  f1-score   support\n",
      "\n",
      "           0       0.82      0.89      0.85      8206\n",
      "           1       0.54      0.32      0.40      1022\n",
      "           2       0.84      0.79      0.82      5622\n",
      "\n",
      "    accuracy                           0.81     14850\n",
      "   macro avg       0.73      0.67      0.69     14850\n",
      "weighted avg       0.81      0.81      0.81     14850\n",
      "\n",
      "[[7290  216  700]\n",
      " [ 546  330  146]\n",
      " [1101   66 4455]]\n"
     ]
    }
   ],
   "source": [
    "print(classification_report(y_test1, y_pred1))\n",
    "print(confusion_matrix(y_test1, y_pred1))"
   ]
  },
  {
   "cell_type": "code",
   "execution_count": 110,
   "id": "a7ac134f",
   "metadata": {},
   "outputs": [],
   "source": [
    "envio_format1 = pd.read_csv(r'C:\\Users\\ezequ\\env\\SubmissionFormat.csv', index_col='id')"
   ]
  },
  {
   "cell_type": "code",
   "execution_count": 111,
   "id": "330c829d",
   "metadata": {},
   "outputs": [
    {
     "data": {
      "text/html": [
       "<div>\n",
       "<style scoped>\n",
       "    .dataframe tbody tr th:only-of-type {\n",
       "        vertical-align: middle;\n",
       "    }\n",
       "\n",
       "    .dataframe tbody tr th {\n",
       "        vertical-align: top;\n",
       "    }\n",
       "\n",
       "    .dataframe thead th {\n",
       "        text-align: right;\n",
       "    }\n",
       "</style>\n",
       "<table border=\"1\" class=\"dataframe\">\n",
       "  <thead>\n",
       "    <tr style=\"text-align: right;\">\n",
       "      <th></th>\n",
       "      <th>status_group</th>\n",
       "    </tr>\n",
       "    <tr>\n",
       "      <th>id</th>\n",
       "      <th></th>\n",
       "    </tr>\n",
       "  </thead>\n",
       "  <tbody>\n",
       "    <tr>\n",
       "      <th>50785</th>\n",
       "      <td>predicted label</td>\n",
       "    </tr>\n",
       "    <tr>\n",
       "      <th>51630</th>\n",
       "      <td>predicted label</td>\n",
       "    </tr>\n",
       "    <tr>\n",
       "      <th>17168</th>\n",
       "      <td>predicted label</td>\n",
       "    </tr>\n",
       "    <tr>\n",
       "      <th>45559</th>\n",
       "      <td>predicted label</td>\n",
       "    </tr>\n",
       "    <tr>\n",
       "      <th>49871</th>\n",
       "      <td>predicted label</td>\n",
       "    </tr>\n",
       "    <tr>\n",
       "      <th>...</th>\n",
       "      <td>...</td>\n",
       "    </tr>\n",
       "    <tr>\n",
       "      <th>39307</th>\n",
       "      <td>predicted label</td>\n",
       "    </tr>\n",
       "    <tr>\n",
       "      <th>18990</th>\n",
       "      <td>predicted label</td>\n",
       "    </tr>\n",
       "    <tr>\n",
       "      <th>28749</th>\n",
       "      <td>predicted label</td>\n",
       "    </tr>\n",
       "    <tr>\n",
       "      <th>33492</th>\n",
       "      <td>predicted label</td>\n",
       "    </tr>\n",
       "    <tr>\n",
       "      <th>68707</th>\n",
       "      <td>predicted label</td>\n",
       "    </tr>\n",
       "  </tbody>\n",
       "</table>\n",
       "<p>14850 rows × 1 columns</p>\n",
       "</div>"
      ],
      "text/plain": [
       "          status_group\n",
       "id                    \n",
       "50785  predicted label\n",
       "51630  predicted label\n",
       "17168  predicted label\n",
       "45559  predicted label\n",
       "49871  predicted label\n",
       "...                ...\n",
       "39307  predicted label\n",
       "18990  predicted label\n",
       "28749  predicted label\n",
       "33492  predicted label\n",
       "68707  predicted label\n",
       "\n",
       "[14850 rows x 1 columns]"
      ]
     },
     "execution_count": 111,
     "metadata": {},
     "output_type": "execute_result"
    }
   ],
   "source": [
    "envio_format1"
   ]
  },
  {
   "cell_type": "code",
   "execution_count": 112,
   "id": "54a27fc7",
   "metadata": {},
   "outputs": [],
   "source": [
    "envio1 = pd.DataFrame({'id': envio_format1.index, 'status_group': y_pred1})\n",
    "envio1 = envio1.set_index('id')\n",
    "envio1 = envio1.reindex(envio_format1.index)\n",
    "envio1 = envio1.reset_index()"
   ]
  },
  {
   "cell_type": "code",
   "execution_count": 113,
   "id": "44fb829b",
   "metadata": {},
   "outputs": [
    {
     "data": {
      "text/html": [
       "<div>\n",
       "<style scoped>\n",
       "    .dataframe tbody tr th:only-of-type {\n",
       "        vertical-align: middle;\n",
       "    }\n",
       "\n",
       "    .dataframe tbody tr th {\n",
       "        vertical-align: top;\n",
       "    }\n",
       "\n",
       "    .dataframe thead th {\n",
       "        text-align: right;\n",
       "    }\n",
       "</style>\n",
       "<table border=\"1\" class=\"dataframe\">\n",
       "  <thead>\n",
       "    <tr style=\"text-align: right;\">\n",
       "      <th></th>\n",
       "      <th>id</th>\n",
       "      <th>status_group</th>\n",
       "    </tr>\n",
       "  </thead>\n",
       "  <tbody>\n",
       "    <tr>\n",
       "      <th>0</th>\n",
       "      <td>50785</td>\n",
       "      <td>0</td>\n",
       "    </tr>\n",
       "    <tr>\n",
       "      <th>1</th>\n",
       "      <td>51630</td>\n",
       "      <td>2</td>\n",
       "    </tr>\n",
       "    <tr>\n",
       "      <th>2</th>\n",
       "      <td>17168</td>\n",
       "      <td>0</td>\n",
       "    </tr>\n",
       "    <tr>\n",
       "      <th>3</th>\n",
       "      <td>45559</td>\n",
       "      <td>0</td>\n",
       "    </tr>\n",
       "    <tr>\n",
       "      <th>4</th>\n",
       "      <td>49871</td>\n",
       "      <td>0</td>\n",
       "    </tr>\n",
       "    <tr>\n",
       "      <th>...</th>\n",
       "      <td>...</td>\n",
       "      <td>...</td>\n",
       "    </tr>\n",
       "    <tr>\n",
       "      <th>14845</th>\n",
       "      <td>39307</td>\n",
       "      <td>0</td>\n",
       "    </tr>\n",
       "    <tr>\n",
       "      <th>14846</th>\n",
       "      <td>18990</td>\n",
       "      <td>0</td>\n",
       "    </tr>\n",
       "    <tr>\n",
       "      <th>14847</th>\n",
       "      <td>28749</td>\n",
       "      <td>0</td>\n",
       "    </tr>\n",
       "    <tr>\n",
       "      <th>14848</th>\n",
       "      <td>33492</td>\n",
       "      <td>0</td>\n",
       "    </tr>\n",
       "    <tr>\n",
       "      <th>14849</th>\n",
       "      <td>68707</td>\n",
       "      <td>0</td>\n",
       "    </tr>\n",
       "  </tbody>\n",
       "</table>\n",
       "<p>14850 rows × 2 columns</p>\n",
       "</div>"
      ],
      "text/plain": [
       "          id  status_group\n",
       "0      50785             0\n",
       "1      51630             2\n",
       "2      17168             0\n",
       "3      45559             0\n",
       "4      49871             0\n",
       "...      ...           ...\n",
       "14845  39307             0\n",
       "14846  18990             0\n",
       "14847  28749             0\n",
       "14848  33492             0\n",
       "14849  68707             0\n",
       "\n",
       "[14850 rows x 2 columns]"
      ]
     },
     "execution_count": 113,
     "metadata": {},
     "output_type": "execute_result"
    }
   ],
   "source": [
    "envio1"
   ]
  },
  {
   "cell_type": "code",
   "execution_count": 114,
   "id": "9700c467",
   "metadata": {},
   "outputs": [
    {
     "data": {
      "text/plain": [
       "functional                 8937\n",
       "non functional             5301\n",
       "functional needs repair     612\n",
       "Name: status_group, dtype: int64"
      ]
     },
     "execution_count": 114,
     "metadata": {},
     "output_type": "execute_result"
    }
   ],
   "source": [
    "target_status_group2 = {0:'functional', \n",
    "                   2:'non functional', \n",
    "                   1:'functional needs repair'} \n",
    "envio1['status_group'] = envio1['status_group'].replace(target_status_group2)\n",
    "envio1['status_group'].value_counts()"
   ]
  },
  {
   "cell_type": "code",
   "execution_count": 115,
   "id": "2b2c6605",
   "metadata": {},
   "outputs": [],
   "source": [
    "envio1.to_csv('prueba_2.csv', index=False)"
   ]
  },
  {
   "cell_type": "markdown",
   "id": "f5e26872",
   "metadata": {},
   "source": [
    "En la competencia probe 1ro con un paramentro de n_estimators=150 y despues con 100 "
   ]
  },
  {
   "cell_type": "code",
   "execution_count": 116,
   "id": "6632dd11",
   "metadata": {},
   "outputs": [],
   "source": [
    "X = train.drop('status_group', axis=1)\n",
    "y = train['status_group']"
   ]
  },
  {
   "cell_type": "code",
   "execution_count": 117,
   "id": "a7824646",
   "metadata": {},
   "outputs": [],
   "source": [
    "X_train, X_test, y_train, y_test = train_test_split(train.drop('status_group', axis=1), train['status_group'], test_size=0.25, random_state=42)\n"
   ]
  },
  {
   "cell_type": "code",
   "execution_count": 118,
   "id": "81beac9f",
   "metadata": {},
   "outputs": [
    {
     "data": {
      "text/html": [
       "<style>#sk-container-id-6 {color: black;background-color: white;}#sk-container-id-6 pre{padding: 0;}#sk-container-id-6 div.sk-toggleable {background-color: white;}#sk-container-id-6 label.sk-toggleable__label {cursor: pointer;display: block;width: 100%;margin-bottom: 0;padding: 0.3em;box-sizing: border-box;text-align: center;}#sk-container-id-6 label.sk-toggleable__label-arrow:before {content: \"▸\";float: left;margin-right: 0.25em;color: #696969;}#sk-container-id-6 label.sk-toggleable__label-arrow:hover:before {color: black;}#sk-container-id-6 div.sk-estimator:hover label.sk-toggleable__label-arrow:before {color: black;}#sk-container-id-6 div.sk-toggleable__content {max-height: 0;max-width: 0;overflow: hidden;text-align: left;background-color: #f0f8ff;}#sk-container-id-6 div.sk-toggleable__content pre {margin: 0.2em;color: black;border-radius: 0.25em;background-color: #f0f8ff;}#sk-container-id-6 input.sk-toggleable__control:checked~div.sk-toggleable__content {max-height: 200px;max-width: 100%;overflow: auto;}#sk-container-id-6 input.sk-toggleable__control:checked~label.sk-toggleable__label-arrow:before {content: \"▾\";}#sk-container-id-6 div.sk-estimator input.sk-toggleable__control:checked~label.sk-toggleable__label {background-color: #d4ebff;}#sk-container-id-6 div.sk-label input.sk-toggleable__control:checked~label.sk-toggleable__label {background-color: #d4ebff;}#sk-container-id-6 input.sk-hidden--visually {border: 0;clip: rect(1px 1px 1px 1px);clip: rect(1px, 1px, 1px, 1px);height: 1px;margin: -1px;overflow: hidden;padding: 0;position: absolute;width: 1px;}#sk-container-id-6 div.sk-estimator {font-family: monospace;background-color: #f0f8ff;border: 1px dotted black;border-radius: 0.25em;box-sizing: border-box;margin-bottom: 0.5em;}#sk-container-id-6 div.sk-estimator:hover {background-color: #d4ebff;}#sk-container-id-6 div.sk-parallel-item::after {content: \"\";width: 100%;border-bottom: 1px solid gray;flex-grow: 1;}#sk-container-id-6 div.sk-label:hover label.sk-toggleable__label {background-color: #d4ebff;}#sk-container-id-6 div.sk-serial::before {content: \"\";position: absolute;border-left: 1px solid gray;box-sizing: border-box;top: 0;bottom: 0;left: 50%;z-index: 0;}#sk-container-id-6 div.sk-serial {display: flex;flex-direction: column;align-items: center;background-color: white;padding-right: 0.2em;padding-left: 0.2em;position: relative;}#sk-container-id-6 div.sk-item {position: relative;z-index: 1;}#sk-container-id-6 div.sk-parallel {display: flex;align-items: stretch;justify-content: center;background-color: white;position: relative;}#sk-container-id-6 div.sk-item::before, #sk-container-id-6 div.sk-parallel-item::before {content: \"\";position: absolute;border-left: 1px solid gray;box-sizing: border-box;top: 0;bottom: 0;left: 50%;z-index: -1;}#sk-container-id-6 div.sk-parallel-item {display: flex;flex-direction: column;z-index: 1;position: relative;background-color: white;}#sk-container-id-6 div.sk-parallel-item:first-child::after {align-self: flex-end;width: 50%;}#sk-container-id-6 div.sk-parallel-item:last-child::after {align-self: flex-start;width: 50%;}#sk-container-id-6 div.sk-parallel-item:only-child::after {width: 0;}#sk-container-id-6 div.sk-dashed-wrapped {border: 1px dashed gray;margin: 0 0.4em 0.5em 0.4em;box-sizing: border-box;padding-bottom: 0.4em;background-color: white;}#sk-container-id-6 div.sk-label label {font-family: monospace;font-weight: bold;display: inline-block;line-height: 1.2em;}#sk-container-id-6 div.sk-label-container {text-align: center;}#sk-container-id-6 div.sk-container {/* jupyter's `normalize.less` sets `[hidden] { display: none; }` but bootstrap.min.css set `[hidden] { display: none !important; }` so we also need the `!important` here to be able to override the default hidden behavior on the sphinx rendered scikit-learn.org. See: https://github.com/scikit-learn/scikit-learn/issues/21755 */display: inline-block !important;position: relative;}#sk-container-id-6 div.sk-text-repr-fallback {display: none;}</style><div id=\"sk-container-id-6\" class=\"sk-top-container\"><div class=\"sk-text-repr-fallback\"><pre>RandomForestClassifier(n_jobs=-1, random_state=1)</pre><b>In a Jupyter environment, please rerun this cell to show the HTML representation or trust the notebook. <br />On GitHub, the HTML representation is unable to render, please try loading this page with nbviewer.org.</b></div><div class=\"sk-container\" hidden><div class=\"sk-item\"><div class=\"sk-estimator sk-toggleable\"><input class=\"sk-toggleable__control sk-hidden--visually\" id=\"sk-estimator-id-6\" type=\"checkbox\" checked><label for=\"sk-estimator-id-6\" class=\"sk-toggleable__label sk-toggleable__label-arrow\">RandomForestClassifier</label><div class=\"sk-toggleable__content\"><pre>RandomForestClassifier(n_jobs=-1, random_state=1)</pre></div></div></div></div></div>"
      ],
      "text/plain": [
       "RandomForestClassifier(n_jobs=-1, random_state=1)"
      ]
     },
     "execution_count": 118,
     "metadata": {},
     "output_type": "execute_result"
    }
   ],
   "source": [
    "rnd_clf = RandomForestClassifier(n_estimators=100, n_jobs=-1, random_state=1)\n",
    "rnd_clf.fit(X_train, y_train)"
   ]
  },
  {
   "cell_type": "code",
   "execution_count": 119,
   "id": "a3b25913",
   "metadata": {},
   "outputs": [],
   "source": [
    "y_pred2 = rnd_clf.predict(X_test)"
   ]
  },
  {
   "cell_type": "code",
   "execution_count": 120,
   "id": "cf9099ee",
   "metadata": {},
   "outputs": [
    {
     "name": "stdout",
     "output_type": "stream",
     "text": [
      "Accuracy: 0.8086868686868687\n"
     ]
    }
   ],
   "source": [
    "accuracy = accuracy_score(y_test, y_pred2)\n",
    "print('Accuracy:', accuracy)"
   ]
  },
  {
   "cell_type": "code",
   "execution_count": 121,
   "id": "823491c1",
   "metadata": {},
   "outputs": [],
   "source": [
    "envio_format3 = pd.read_csv(r'C:\\Users\\ezequ\\env\\SubmissionFormat.csv', index_col='id')"
   ]
  },
  {
   "cell_type": "code",
   "execution_count": 122,
   "id": "34a61afa",
   "metadata": {},
   "outputs": [],
   "source": [
    "envio3 = pd.DataFrame({'id': envio_format3.index, 'status_group': y_pred2})\n",
    "envio3 = envio3.set_index('id')\n",
    "envio3 = envio3.reindex(envio_format3.index)\n",
    "envio3 = envio3.reset_index()"
   ]
  },
  {
   "cell_type": "code",
   "execution_count": 123,
   "id": "b7326363",
   "metadata": {},
   "outputs": [
    {
     "data": {
      "text/plain": [
       "functional                 9038\n",
       "non functional             5176\n",
       "functional needs repair     636\n",
       "Name: status_group, dtype: int64"
      ]
     },
     "execution_count": 123,
     "metadata": {},
     "output_type": "execute_result"
    }
   ],
   "source": [
    "target_status_group3 = {0:'functional', \n",
    "                   2:'non functional', \n",
    "                   1:'functional needs repair'} \n",
    "envio3['status_group'] = envio3['status_group'].replace(target_status_group2)\n",
    "envio3['status_group'].value_counts()"
   ]
  },
  {
   "cell_type": "code",
   "execution_count": 124,
   "id": "99a238c2",
   "metadata": {},
   "outputs": [],
   "source": [
    "envio3.to_csv('prueba_RF.csv', index=False)"
   ]
  }
 ],
 "metadata": {
  "kernelspec": {
   "display_name": "Python 3 (ipykernel)",
   "language": "python",
   "name": "python3"
  },
  "language_info": {
   "codemirror_mode": {
    "name": "ipython",
    "version": 3
   },
   "file_extension": ".py",
   "mimetype": "text/x-python",
   "name": "python",
   "nbconvert_exporter": "python",
   "pygments_lexer": "ipython3",
   "version": "3.9.12"
  }
 },
 "nbformat": 4,
 "nbformat_minor": 5
}
